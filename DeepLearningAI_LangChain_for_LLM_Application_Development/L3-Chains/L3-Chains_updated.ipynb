{
 "cells": [
  {
   "cell_type": "markdown",
   "id": "52824b89-532a-4e54-87e9-1410813cd39e",
   "metadata": {},
   "source": [
    "# Chains in LangChain\n",
    "\n",
    "## Outline\n",
    "\n",
    "* LLMChain\n",
    "* Sequential Chains\n",
    "  * SimpleSequentialChain\n",
    "  * SequentialChain\n",
    "* Router Chain"
   ]
  },
  {
   "cell_type": "code",
   "execution_count": 1,
   "id": "541eb2f1",
   "metadata": {
    "height": 47,
    "tags": []
   },
   "outputs": [],
   "source": [
    "import warnings\n",
    "warnings.filterwarnings('always')"
   ]
  },
  {
   "cell_type": "code",
   "execution_count": 2,
   "id": "b7ed03ed-1322-49e3-b2a2-33e94fb592ef",
   "metadata": {
    "height": 81,
    "tags": []
   },
   "outputs": [],
   "source": [
    "import os\n",
    "\n",
    "from dotenv import load_dotenv, find_dotenv\n",
    "_ = load_dotenv(find_dotenv()) # read local .env file"
   ]
  },
  {
   "cell_type": "markdown",
   "id": "9f3b61a3-92eb-4891-90ee-1d10607b05ad",
   "metadata": {},
   "source": [
    "Note: LLM's do not always produce the same results. When executing the code in your notebook, you may get slightly different answers that those in the video."
   ]
  },
  {
   "cell_type": "code",
   "execution_count": 3,
   "id": "4336d784-65c2-4a11-8489-b445b1fad177",
   "metadata": {
    "height": 249
   },
   "outputs": [],
   "source": [
    "# account for deprecation of LLM model\n",
    "import datetime\n",
    "# Get the current date\n",
    "current_date = datetime.datetime.now().date()\n",
    "\n",
    "# Define the date after which the model should be set to \"gpt-3.5-turbo\"\n",
    "target_date = datetime.date(2024, 6, 12)\n",
    "\n",
    "# Set the model variable based on the current date\n",
    "if current_date > target_date:\n",
    "    llm_model = \"gpt-3.5-turbo\"\n",
    "else:\n",
    "    llm_model = \"gpt-3.5-turbo-0301\""
   ]
  },
  {
   "cell_type": "code",
   "execution_count": 4,
   "id": "b84e441b",
   "metadata": {
    "height": 30,
    "tags": []
   },
   "outputs": [],
   "source": [
    "#!pip install pandas\n",
    "#!pip install --upgrade langchain langgraph langchain_openapi"
   ]
  },
  {
   "cell_type": "code",
   "execution_count": 5,
   "id": "974acf8e-8f88-42de-88f8-40a82cb58e8b",
   "metadata": {
    "height": 47,
    "tags": []
   },
   "outputs": [],
   "source": [
    "import pandas as pd\n",
    "df = pd.read_csv('Data.csv')"
   ]
  },
  {
   "cell_type": "code",
   "execution_count": 6,
   "id": "b7a09c35",
   "metadata": {
    "height": 30,
    "tags": []
   },
   "outputs": [
    {
     "data": {
      "text/html": [
       "<div>\n",
       "<style scoped>\n",
       "    .dataframe tbody tr th:only-of-type {\n",
       "        vertical-align: middle;\n",
       "    }\n",
       "\n",
       "    .dataframe tbody tr th {\n",
       "        vertical-align: top;\n",
       "    }\n",
       "\n",
       "    .dataframe thead th {\n",
       "        text-align: right;\n",
       "    }\n",
       "</style>\n",
       "<table border=\"1\" class=\"dataframe\">\n",
       "  <thead>\n",
       "    <tr style=\"text-align: right;\">\n",
       "      <th></th>\n",
       "      <th>Product</th>\n",
       "      <th>Review</th>\n",
       "    </tr>\n",
       "  </thead>\n",
       "  <tbody>\n",
       "    <tr>\n",
       "      <th>0</th>\n",
       "      <td>Queen Size Sheet Set</td>\n",
       "      <td>I ordered a king size set. My only criticism w...</td>\n",
       "    </tr>\n",
       "    <tr>\n",
       "      <th>1</th>\n",
       "      <td>Waterproof Phone Pouch</td>\n",
       "      <td>I loved the waterproof sac, although the openi...</td>\n",
       "    </tr>\n",
       "    <tr>\n",
       "      <th>2</th>\n",
       "      <td>Luxury Air Mattress</td>\n",
       "      <td>This mattress had a small hole in the top of i...</td>\n",
       "    </tr>\n",
       "    <tr>\n",
       "      <th>3</th>\n",
       "      <td>Pillows Insert</td>\n",
       "      <td>This is the best throw pillow fillers on Amazo...</td>\n",
       "    </tr>\n",
       "    <tr>\n",
       "      <th>4</th>\n",
       "      <td>Milk Frother Handheld\\n</td>\n",
       "      <td>I loved this product. But they only seem to l...</td>\n",
       "    </tr>\n",
       "  </tbody>\n",
       "</table>\n",
       "</div>"
      ],
      "text/plain": [
       "                   Product                                             Review\n",
       "0     Queen Size Sheet Set  I ordered a king size set. My only criticism w...\n",
       "1   Waterproof Phone Pouch  I loved the waterproof sac, although the openi...\n",
       "2      Luxury Air Mattress  This mattress had a small hole in the top of i...\n",
       "3           Pillows Insert  This is the best throw pillow fillers on Amazo...\n",
       "4  Milk Frother Handheld\\n   I loved this product. But they only seem to l..."
      ]
     },
     "execution_count": 6,
     "metadata": {},
     "output_type": "execute_result"
    }
   ],
   "source": [
    "df.head()"
   ]
  },
  {
   "cell_type": "markdown",
   "id": "b940ce7c",
   "metadata": {},
   "source": [
    "## LLMChain"
   ]
  },
  {
   "cell_type": "code",
   "execution_count": 7,
   "id": "e92dff22",
   "metadata": {
    "height": 64,
    "tags": []
   },
   "outputs": [],
   "source": [
    "from langchain_openai import ChatOpenAI\n",
    "from langchain.prompts import ChatPromptTemplate\n",
    "\n",
    "# [DEPRECATED]\n",
    "from langchain.chains import LLMChain"
   ]
  },
  {
   "cell_type": "code",
   "execution_count": 8,
   "id": "943237a7",
   "metadata": {
    "height": 30,
    "tags": []
   },
   "outputs": [],
   "source": [
    "llm = ChatOpenAI(temperature=0.9, model=llm_model)"
   ]
  },
  {
   "cell_type": "code",
   "execution_count": 9,
   "id": "cdcdb42d",
   "metadata": {
    "height": 81,
    "tags": []
   },
   "outputs": [],
   "source": [
    "prompt = ChatPromptTemplate.from_template(\n",
    "    \"What is the best name to describe \\\n",
    "    a company that makes {product}?\"\n",
    ")"
   ]
  },
  {
   "cell_type": "code",
   "execution_count": 22,
   "id": "d7abc20b",
   "metadata": {
    "height": 30,
    "tags": []
   },
   "outputs": [],
   "source": [
    "# [DEPRECATED]\n",
    "#chain = LLMChain(llm=llm, prompt=prompt)\n",
    "\n",
    "# It produces a Runnable sequence, not a LLMChain\n",
    "chain = prompt | llm"
   ]
  },
  {
   "cell_type": "code",
   "execution_count": 23,
   "id": "ad44d1fb",
   "metadata": {
    "height": 47,
    "tags": []
   },
   "outputs": [
    {
     "data": {
      "text/plain": [
       "AIMessage(content='Regal Linens', additional_kwargs={'refusal': None}, response_metadata={'token_usage': {'completion_tokens': 4, 'prompt_tokens': 24, 'total_tokens': 28, 'completion_tokens_details': {'audio_tokens': None, 'reasoning_tokens': 0}, 'prompt_tokens_details': {'audio_tokens': None, 'cached_tokens': 0}}, 'model_name': 'gpt-3.5-turbo-0125', 'system_fingerprint': None, 'finish_reason': 'stop', 'logprobs': None}, id='run-a7f12f9a-0cdc-4c3d-827f-c09da700411d-0', usage_metadata={'input_tokens': 24, 'output_tokens': 4, 'total_tokens': 28, 'input_token_details': {'cache_read': 0}, 'output_token_details': {'reasoning': 0}})"
      ]
     },
     "execution_count": 23,
     "metadata": {},
     "output_type": "execute_result"
    }
   ],
   "source": [
    "product = \"Queen Size Sheet Set\"\n",
    "chain.invoke(product)"
   ]
  },
  {
   "cell_type": "markdown",
   "id": "69b03469",
   "metadata": {},
   "source": [
    "## SimpleSequentialChain"
   ]
  },
  {
   "cell_type": "code",
   "execution_count": 24,
   "id": "febee243",
   "metadata": {
    "height": 30,
    "tags": []
   },
   "outputs": [],
   "source": [
    "from langchain.chains import SimpleSequentialChain\n",
    "from langchain.chains.sequential import SimpleSequentialChain"
   ]
  },
  {
   "cell_type": "code",
   "execution_count": 25,
   "id": "2f31aa8a",
   "metadata": {
    "height": 183,
    "tags": []
   },
   "outputs": [],
   "source": [
    "llm = ChatOpenAI(temperature=0.9, model=llm_model)\n",
    "\n",
    "# prompt template 1\n",
    "first_prompt = ChatPromptTemplate.from_template(\n",
    "    \"What is the best name to describe \\\n",
    "    a company that makes {product}?\"\n",
    ")\n",
    "\n",
    "# Chain 1\n",
    "# SimpleSequentialChain does not support (first_prompt | llm)\n",
    "chain_one = LLMChain(llm=llm, prompt=first_prompt)\n",
    "#chain_one = first_prompt | llm"
   ]
  },
  {
   "cell_type": "code",
   "execution_count": 26,
   "id": "3f5d5b76",
   "metadata": {
    "height": 132,
    "tags": []
   },
   "outputs": [],
   "source": [
    "# prompt template 2\n",
    "second_prompt = ChatPromptTemplate.from_template(\n",
    "    \"Write a 20 words description for the following \\\n",
    "    company:{company_name}\"\n",
    ")\n",
    "# chain 2\n",
    "# SimpleSequentialChain does not support (second_prompt | llm)\n",
    "chain_two = LLMChain(llm=llm, prompt=second_prompt)\n",
    "#chain_two = second_prompt | llm"
   ]
  },
  {
   "cell_type": "code",
   "execution_count": 27,
   "id": "6c1eb2c4",
   "metadata": {
    "height": 79,
    "tags": []
   },
   "outputs": [],
   "source": [
    "overall_simple_chain = SimpleSequentialChain(chains=[chain_one, chain_two], verbose=True)"
   ]
  },
  {
   "cell_type": "code",
   "execution_count": 18,
   "id": "78458efe",
   "metadata": {
    "height": 30,
    "tags": []
   },
   "outputs": [
    {
     "name": "stdout",
     "output_type": "stream",
     "text": [
      "\n",
      "\n",
      "\u001b[1m> Entering new SimpleSequentialChain chain...\u001b[0m\n",
      "\u001b[36;1m\u001b[1;3m\"Royal Linens Co.\"\u001b[0m\n",
      "\u001b[33;1m\u001b[1;3m\"Royal Linens Co. offers luxurious bedding and linens fit for royalty, with a wide selection of high-quality products for every customer.\"\u001b[0m\n",
      "\n",
      "\u001b[1m> Finished chain.\u001b[0m\n",
      "{'input': 'Queen Size Sheet Set', 'output': '\"Royal Linens Co. offers luxurious bedding and linens fit for royalty, with a wide selection of high-quality products for every customer.\"'}\n"
     ]
    }
   ],
   "source": [
    "# Run the overall chain\n",
    "output = overall_simple_chain.invoke({\"input\": product})\n",
    "print(output)"
   ]
  },
  {
   "cell_type": "markdown",
   "id": "7b5ce18c",
   "metadata": {},
   "source": [
    "## SequentialChain"
   ]
  },
  {
   "cell_type": "code",
   "execution_count": 81,
   "id": "4c129ef6",
   "metadata": {
    "height": 30,
    "tags": []
   },
   "outputs": [],
   "source": [
    "from langchain.chains.sequential import SequentialChain\n"
   ]
  },
  {
   "cell_type": "code",
   "execution_count": 141,
   "id": "016187ac",
   "metadata": {
    "height": 217,
    "tags": []
   },
   "outputs": [],
   "source": [
    "llm = ChatOpenAI(temperature=0.9, model=llm_model)\n",
    "\n",
    "# prompt template 1: translate to english\n",
    "first_prompt = ChatPromptTemplate.from_template(\n",
    "    \"Translate the following review to english:\"\n",
    "    \"\\n\\n{Review}\"\n",
    ")\n",
    "\n",
    "# chain 1: input= Review and output= English_Review\n",
    "# SequentialChain does not support (prompt | llm)\n",
    "chain_one = LLMChain(llm=llm, prompt=first_prompt, output_key=\"English_Review\")\n",
    "#chain_one = first_prompt | llm"
   ]
  },
  {
   "cell_type": "code",
   "execution_count": 142,
   "id": "0fb0730e",
   "metadata": {
    "height": 166,
    "tags": []
   },
   "outputs": [],
   "source": [
    "second_prompt = ChatPromptTemplate.from_template(\n",
    "    \"Can you summarize the following review in 1 sentence:\"\n",
    "    \"\\n\\n{English_Review}\"\n",
    ")\n",
    "\n",
    "# chain 2: input= English_Review and output= summary\n",
    "# SequentialChain does not support (prompt | llm)\n",
    "chain_two = LLMChain(llm=llm, prompt=second_prompt, output_key=\"summary\")\n",
    "#chain_two = second_prompt | llm"
   ]
  },
  {
   "cell_type": "code",
   "execution_count": 143,
   "id": "6accf92d",
   "metadata": {
    "height": 166,
    "tags": []
   },
   "outputs": [],
   "source": [
    "# prompt template 3: translate to english\n",
    "third_prompt = ChatPromptTemplate.from_template(\n",
    "    \"What language is the following review:\\n\\n{Review}\"\n",
    ")\n",
    "\n",
    "# chain 3: input= Review and output= language\n",
    "# SequentialChain does not support (prompt | llm)\n",
    "chain_three = LLMChain(llm=llm, prompt=third_prompt, output_key=\"language\")\n",
    "#chain_three = third_prompt | llm\n"
   ]
  },
  {
   "cell_type": "code",
   "execution_count": 144,
   "id": "c7a46121",
   "metadata": {
    "height": 232,
    "tags": []
   },
   "outputs": [],
   "source": [
    "\n",
    "# prompt template 4: follow up message\n",
    "fourth_prompt = ChatPromptTemplate.from_template(\n",
    "    \"Write a follow up response to the following \"\n",
    "    \"summary in the specified language:\"\n",
    "    \"\\n\\nSummary: {summary}\\n\\nLanguage: {language}\"\n",
    ")\n",
    "\n",
    "# chain 4: input= summary, language and output= followup_message\n",
    "# SequentialChain does not support (prompt | llm)\n",
    "chain_four = LLMChain(llm=llm, prompt=fourth_prompt, output_key=\"followup_message\")\n",
    "#chain_four = fourth_prompt | llm\n"
   ]
  },
  {
   "cell_type": "code",
   "execution_count": 145,
   "id": "89603117",
   "metadata": {
    "height": 164,
    "tags": []
   },
   "outputs": [],
   "source": [
    "# overall_chain: input= Review \n",
    "# and output= English_Review,summary, followup_message\n",
    "overall_chain = SequentialChain(\n",
    "    chains=[chain_one, chain_two, chain_three, chain_four],\n",
    "    input_variables=[\"Review\"],\n",
    "    output_variables=[\"English_Review\", \"summary\", \"followup_message\"],\n",
    "    verbose=True\n",
    ")"
   ]
  },
  {
   "cell_type": "code",
   "execution_count": 146,
   "id": "51b04f45",
   "metadata": {
    "height": 47,
    "tags": []
   },
   "outputs": [
    {
     "name": "stdout",
     "output_type": "stream",
     "text": [
      "\n",
      "\n",
      "\u001b[1m> Entering new SequentialChain chain...\u001b[0m\n",
      "\n",
      "\u001b[1m> Finished chain.\u001b[0m\n"
     ]
    },
    {
     "data": {
      "text/plain": [
       "{'Review': \"Je trouve le goût médiocre. La mousse ne tient pas, c'est bizarre. J'achète les mêmes dans le commerce et le goût est bien meilleur...\\nVieux lot ou contrefaçon !?\",\n",
       " 'English_Review': \"I find the taste mediocre. The foam doesn't hold, it's strange. I buy the same ones in stores and the taste is much better... Old batch or counterfeit!?\",\n",
       " 'summary': 'The reviewer is disappointed in the taste and quality of the product, suspecting it may be an old batch or counterfeit.',\n",
       " 'followup_message': \"Cher client, nous vous remercions de votre retour d'expérience. Nous sommes désolés d'apprendre que vous n'avez pas été satisfait de la saveur et de la qualité de notre produit. Nous prenons votre préoccupation très au sérieux et nous vous assurons que nous allons immédiatement enquêter pour déterminer s'il s'agit d'un lot périmé ou contrefait. Votre satisfaction est notre priorité et nous ferons tout notre possible pour rectifier cette situation. Nous vous tiendrons informé des résultats de notre enquête. Merci de votre patience et de votre confiance.\"}"
      ]
     },
     "execution_count": 146,
     "metadata": {},
     "output_type": "execute_result"
    }
   ],
   "source": [
    "review = df.Review[5]\n",
    "overall_chain.invoke(review)"
   ]
  },
  {
   "cell_type": "markdown",
   "id": "ced466d7",
   "metadata": {},
   "source": [
    "### New way to combine chains ...\n",
    "\n",
    "Sequential Chain is the old Langchain Style of combining Chains. You might want to combine chains using the following LCEL syntax:\n",
    "\n",
    "    combined_chain = chain1 | chain2"
   ]
  },
  {
   "cell_type": "code",
   "execution_count": 169,
   "id": "40162f9f",
   "metadata": {},
   "outputs": [],
   "source": [
    "from langchain_core.runnables import RunnablePassthrough\n",
    "from langchain_core.output_parsers import StrOutputParser\n",
    "\n",
    "\n",
    "output_parser = StrOutputParser()\n",
    "\n",
    "# Now it supports | syntax\n",
    "chain_one   = first_prompt  | llm | {\"English_Review\": output_parser}\n",
    "chain_two   = second_prompt | llm | {\"summary\": output_parser}\n",
    "chain_three = third_prompt  | llm | {\"language\": output_parser}\n",
    "chain_four  = fourth_prompt | llm | {\"followup_message\": output_parser}\n",
    "\n"
   ]
  },
  {
   "cell_type": "code",
   "execution_count": 192,
   "id": "7b22ed0b",
   "metadata": {},
   "outputs": [],
   "source": [
    "raw_review = df.Review[5]\n",
    "\n",
    "review = {\"Review\": raw_review}"
   ]
  },
  {
   "cell_type": "code",
   "execution_count": 171,
   "id": "826d3b4e",
   "metadata": {},
   "outputs": [
    {
     "name": "stdout",
     "output_type": "stream",
     "text": [
      "{'English_Review': \"I find the taste mediocre. The foam doesn't last, it's strange. I buy the same ones in stores and the taste is much better... Old batch or counterfeit!?\"}\n"
     ]
    }
   ],
   "source": [
    "english_review = chain_one.invoke(review)\n",
    "print(english_review)"
   ]
  },
  {
   "cell_type": "code",
   "execution_count": 172,
   "id": "2818c7bd",
   "metadata": {},
   "outputs": [
    {
     "name": "stdout",
     "output_type": "stream",
     "text": [
      "{'summary': 'The reviewer is disappointed with the taste of the product, questioning if it is an old batch or counterfeit.'}\n"
     ]
    }
   ],
   "source": [
    "summary = chain_two.invoke(english_review)\n",
    "print(summary)"
   ]
  },
  {
   "cell_type": "code",
   "execution_count": 173,
   "id": "598cf3cb",
   "metadata": {},
   "outputs": [
    {
     "name": "stdout",
     "output_type": "stream",
     "text": [
      "{'language': 'French'}\n"
     ]
    }
   ],
   "source": [
    "language = chain_three.invoke(review)\n",
    "print(language)"
   ]
  },
  {
   "cell_type": "code",
   "execution_count": 184,
   "id": "b58ca292",
   "metadata": {},
   "outputs": [
    {
     "name": "stdout",
     "output_type": "stream",
     "text": [
      "{'followup_message': \"Cher client, nous sommes désolés d'apprendre que vous n'êtes pas satisfait du goût de notre produit. Nous vous assurons que tous nos produits sont frais et authentiques. Nous vous encourageons à nous contacter directement pour résoudre ce problème et nous assurerons que vous receviez un produit de qualité. Merci pour votre retour d'information.\"}\n"
     ]
    }
   ],
   "source": [
    "summary_and_language = summary\n",
    "summary_and_language['language'] = language['language']\n",
    "\n",
    "followup_message = chain_four.invoke(summary_and_language)\n",
    "print(followup_message)"
   ]
  },
  {
   "cell_type": "markdown",
   "id": "19fd92bb",
   "metadata": {},
   "source": [
    "### How to combine chains with pipes?"
   ]
  },
  {
   "cell_type": "code",
   "execution_count": 223,
   "id": "75c6e257",
   "metadata": {},
   "outputs": [],
   "source": [
    "model_parser = llm | StrOutputParser()\n",
    "\n",
    "english_review = first_prompt | {\"English_Review\": model_parser, \"Review\": RunnablePassthrough()}\n",
    "\n",
    "summary = second_prompt | model_parser\n",
    "\n",
    "language = third_prompt | {\"language\": model_parser}\n",
    "\n",
    "followup_message = fourth_prompt | model_parser\n",
    "\n",
    "assistant = english_review | {\"summary\":summary, \"language\":language} | followup_message"
   ]
  },
  {
   "cell_type": "code",
   "execution_count": 224,
   "id": "b9fda20f",
   "metadata": {},
   "outputs": [
    {
     "data": {
      "text/plain": [
       "\"Merci pour votre avis honnête sur le produit. Il est regrettable d'apprendre que vous avez trouvé le goût médiocre et que la mousse ne tient pas bien. Il est possible que le produit que vous avez reçu soit une ancienne série ou une contrefaçon, ce qui expliquerait la différence de goût par rapport à ceux achetés en magasin. Nous vous recommandons de contacter le vendeur pour clarifier cette situation. Nous espérons que vous pourrez bientôt profiter pleinement du produit comme vous le faisiez auparavant en magasin.\""
      ]
     },
     "execution_count": 224,
     "metadata": {},
     "output_type": "execute_result"
    }
   ],
   "source": [
    "assistant.invoke(review)"
   ]
  },
  {
   "cell_type": "markdown",
   "id": "e4440170",
   "metadata": {},
   "source": [
    "Improving by using: \n",
    "- RunnablePassthrough\n",
    "- RunnableLambda\n",
    "- RunnableParallel"
   ]
  },
  {
   "cell_type": "code",
   "execution_count": 19,
   "id": "d0c4a549",
   "metadata": {},
   "outputs": [
    {
     "name": "stdout",
     "output_type": "stream",
     "text": [
      "> Translate the following review to english:\n",
      "\n",
      "Je trouve le goût médiocre. La mousse ne tient pas, c'est bizarre. J'achète les mêmes dans le commerce et le goût est bien meilleur...\n",
      "Vieux lot ou contrefaçon !? \n",
      "\n",
      "> What language is the following review:\n",
      "\n",
      "Je trouve le goût médiocre. La mousse ne tient pas, c'est bizarre. J'achète les mêmes dans le commerce et le goût est bien meilleur...\n",
      "Vieux lot ou contrefaçon !? \n",
      "\n",
      "A: French \n",
      "\n",
      "A: I find the taste mediocre. The foam doesn't hold, it's strange. I buy the same ones in stores and the taste is much better... Old batch or counterfeit!? \n",
      "\n",
      "> Summarize the following review in 1 sentence:\n",
      "\n",
      "I find the taste mediocre. The foam doesn't hold, it's strange. I buy the same ones in stores and the taste is much better... Old batch or counterfeit!? \n",
      "\n",
      "A: The reviewer is disappointed with the taste and quality of the product, suspecting that it may be an old batch or counterfeit. \n",
      "\n",
      "> Write a follow up response to the following summary in the specified language:\n",
      "\n",
      "Summary: The reviewer is disappointed with the taste and quality of the product, suspecting that it may be an old batch or counterfeit.\n",
      "\n",
      "Language: French \n",
      "\n",
      "A: Cher client,\n",
      "\n",
      "Nous sommes désolés d'apprendre que vous n'êtes pas satisfait de la qualité de notre produit. Nous vous assurons que nous mettons tout en œuvre pour garantir la fraîcheur et l'authenticité de nos produits. N'hésitez pas à nous contacter directement pour que nous puissions enquêter sur cette situation et résoudre tout problème éventuel. Votre satisfaction est notre priorité.\n",
      "\n",
      "Cordialement, \n",
      "\n",
      "L'équipe de [Votre entreprise] \n",
      "\n"
     ]
    },
    {
     "data": {
      "text/plain": [
       "{'followup_message': \"Cher client,\\n\\nNous sommes désolés d'apprendre que vous n'êtes pas satisfait de la qualité de notre produit. Nous vous assurons que nous mettons tout en œuvre pour garantir la fraîcheur et l'authenticité de nos produits. N'hésitez pas à nous contacter directement pour que nous puissions enquêter sur cette situation et résoudre tout problème éventuel. Votre satisfaction est notre priorité.\\n\\nCordialement, \\n\\nL'équipe de [Votre entreprise]\"}"
      ]
     },
     "execution_count": 19,
     "metadata": {},
     "output_type": "execute_result"
    }
   ],
   "source": [
    "from langchain_openai import ChatOpenAI\n",
    "from langchain.prompts import ChatPromptTemplate\n",
    "from langchain_core.output_parsers import StrOutputParser\n",
    "from langchain_core.runnables import RunnableLambda, RunnableParallel, RunnablePassthrough\n",
    "\n",
    "# load .env file\n",
    "from dotenv import load_dotenv\n",
    "_ = load_dotenv()\n",
    "\n",
    "# get the review in french\n",
    "import pandas as pd\n",
    "df = pd.read_csv('Data.csv')\n",
    "review = df.Review[5]\n",
    "\n",
    "# Input.: review (original)\n",
    "# Output: english_review\n",
    "first_prompt = ChatPromptTemplate.from_template(\n",
    "    \"Translate the following review to english:\"\n",
    "    \"\\n\\n{review}\"\n",
    ")\n",
    "\n",
    "# Input.: english_review\n",
    "# Output: summary\n",
    "second_prompt = ChatPromptTemplate.from_template(\n",
    "    \"Summarize the following review in 1 sentence:\"\n",
    "    \"\\n\\n{english_review}\"\n",
    ")\n",
    "\n",
    "# Input.: review (original)\n",
    "# Output: language\n",
    "third_prompt = ChatPromptTemplate.from_template(\n",
    "    \"What language is the following review:\"\n",
    "    \"\\n\\n{review}\"\n",
    ")\n",
    "\n",
    "# Input.: summary and language\n",
    "# Output: followup_message\n",
    "fourth_prompt = ChatPromptTemplate.from_template(\n",
    "    \"Write a follow up response to the following summary in the specified language:\"\n",
    "    \"\\n\\nSummary: {summary}\\n\\nLanguage: {language}\"\n",
    ")\n",
    "\n",
    "def showPrompt(prompt):\n",
    "    print(\">\", prompt.messages[0].content, \"\\n\")\n",
    "    return prompt\n",
    "\n",
    "def showResult(ai_msg):\n",
    "    print(\"A:\", ai_msg, \"\\n\")\n",
    "    return ai_msg\n",
    "\n",
    "model = showPrompt | ChatOpenAI() | StrOutputParser() | showResult\n",
    "\n",
    "chain = RunnableParallel({\"english_review\": first_prompt | model, \"language\": third_prompt | model}) \\\n",
    "        | {\"summary\": second_prompt | model, \"language\": RunnableLambda(lambda x: x[\"language\"])} \\\n",
    "        | {\"followup_message\": fourth_prompt | model}\n",
    "\n",
    "chain.invoke({\"review\": review})"
   ]
  },
  {
   "cell_type": "code",
   "execution_count": null,
   "id": "d48774c4",
   "metadata": {},
   "outputs": [],
   "source": [
    "# > Translate the following review to english:\n",
    "# \n",
    "# Je trouve le goût médiocre. La mousse ne tient pas, c'est bizarre. J'achète les mêmes dans le commerce et le goût est bien meilleur...\n",
    "# Vieux lot ou contrefaçon !? \n",
    "# \n",
    "# > What language is the following review:\n",
    "# \n",
    "# Je trouve le goût médiocre. La mousse ne tient pas, c'est bizarre. J'achète les mêmes dans le commerce et le goût est bien meilleur...\n",
    "# Vieux lot ou contrefaçon !? \n",
    "# \n",
    "# A: French \n",
    "# \n",
    "# A: I find the taste mediocre. The foam doesn't hold, it's strange. I buy the same ones in stores and the taste is much better... Old batch or counterfeit!? \n",
    "# \n",
    "# > Summarize the following review in 1 sentence:\n",
    "# \n",
    "# I find the taste mediocre. The foam doesn't hold, it's strange. I buy the same ones in stores and the taste is much better... Old batch or counterfeit!? \n",
    "# \n",
    "# A: The reviewer is disappointed with the taste and quality of the product, suspecting that it may be an old batch or counterfeit. \n",
    "# \n",
    "# > Write a follow up response to the following summary in the specified language:\n",
    "# \n",
    "# Summary: The reviewer is disappointed with the taste and quality of the product, suspecting that it may be an old batch or counterfeit.\n",
    "# \n",
    "# Language: French \n",
    "# \n",
    "# A: Cher client,\n",
    "# \n",
    "# Nous sommes désolés d'apprendre que vous n'êtes pas satisfait de la qualité de notre produit. Nous vous assurons que nous mettons tout en œuvre pour garantir la fraîcheur et l'authenticité de nos produits. N'hésitez pas à nous contacter directement pour que nous puissions enquêter sur cette situation et résoudre tout problème éventuel. Votre satisfaction est notre priorité.\n",
    "# \n",
    "# Cordialement, \n",
    "# \n",
    "# L'équipe de [Votre entreprise] "
   ]
  },
  {
   "cell_type": "markdown",
   "id": "ed739794",
   "metadata": {},
   "source": [
    "Improving by using\n",
    "- LangGraph"
   ]
  },
  {
   "cell_type": "code",
   "execution_count": null,
   "id": "16c2e7f7",
   "metadata": {},
   "outputs": [],
   "source": [
    "# load .env file\n",
    "from dotenv import load_dotenv\n",
    "_ = load_dotenv()\n",
    "\n",
    "# get the review in french\n",
    "import pandas as pd\n",
    "df = pd.read_csv('Data.csv')\n",
    "review = df.Review[5]\n",
    "\n",
    "from typing import TypedDict, Annotated\n",
    "\n",
    "from langgraph.graph import START, END, StateGraph\n",
    "from langgraph.graph.message import add_messages\n",
    "\n",
    "from langchain_openai import ChatOpenAI\n",
    "from langchain_core.messages import HumanMessage\n",
    "\n",
    "class AgentState(TypedDict):\n",
    "    messages: Annotated[list, add_messages]\n",
    "\n",
    "prompts = [\n",
    "    \"What language is the following review:\\n\\n{review}\",\n",
    "    \"Translate the following review to english:\\n\\n{review}\",    \n",
    "    \"Summarize the following review in 1 sentence:\\n\\n{english_review}\",\n",
    "    \"Write a follow up response to the following summary in the specified language:\\n\\nSummary: {summary}\\n\\nLanguage: {language}\"\n",
    "]\n",
    "\n",
    "def showPrompt(prompt):\n",
    "    print(\">\", prompt.messages[0].content, \"\\n\")\n",
    "    return prompt\n",
    "\n",
    "def showResult(ai_msg):\n",
    "    print(\"A:\", ai_msg, \"\\n\")\n",
    "    return ai_msg\n",
    "\n",
    "model = showPrompt | ChatOpenAI() | StrOutputParser() | showResult\n",
    "\n",
    "chain = RunnableParallel({\"english_review\": first_prompt | model, \"language\": third_prompt | model}) \\\n",
    "        | {\"summary\": second_prompt | model, \"language\": RunnableLambda(lambda x: x[\"language\"])} \\\n",
    "        | {\"followup_message\": fourth_prompt | model}\n",
    "\n",
    "chain.invoke({\"review\": review})"
   ]
  },
  {
   "cell_type": "markdown",
   "id": "3041ea4c",
   "metadata": {},
   "source": [
    "## Router Chain"
   ]
  },
  {
   "cell_type": "code",
   "execution_count": null,
   "id": "ade83f4f",
   "metadata": {
    "height": 793,
    "tags": []
   },
   "outputs": [],
   "source": [
    "physics_template = \"\"\"You are a very smart physics professor. \\\n",
    "You are great at answering questions about physics in a concise\\\n",
    "and easy to understand manner. \\\n",
    "When you don't know the answer to a question you admit\\\n",
    "that you don't know.\n",
    "\n",
    "Here is a question:\n",
    "{input}\"\"\"\n",
    "\n",
    "\n",
    "math_template = \"\"\"You are a very good mathematician. \\\n",
    "You are great at answering math questions. \\\n",
    "You are so good because you are able to break down \\\n",
    "hard problems into their component parts, \n",
    "answer the component parts, and then put them together\\\n",
    "to answer the broader question.\n",
    "\n",
    "Here is a question:\n",
    "{input}\"\"\"\n",
    "\n",
    "history_template = \"\"\"You are a very good historian. \\\n",
    "You have an excellent knowledge of and understanding of people,\\\n",
    "events and contexts from a range of historical periods. \\\n",
    "You have the ability to think, reflect, debate, discuss and \\\n",
    "evaluate the past. You have a respect for historical evidence\\\n",
    "and the ability to make use of it to support your explanations \\\n",
    "and judgements.\n",
    "\n",
    "Here is a question:\n",
    "{input}\"\"\"\n",
    "\n",
    "\n",
    "computerscience_template = \"\"\" You are a successful computer scientist.\\\n",
    "You have a passion for creativity, collaboration,\\\n",
    "forward-thinking, confidence, strong problem-solving capabilities,\\\n",
    "understanding of theories and algorithms, and excellent communication \\\n",
    "skills. You are great at answering coding questions. \\\n",
    "You are so good because you know how to solve a problem by \\\n",
    "describing the solution in imperative steps \\\n",
    "that a machine can easily interpret and you know how to \\\n",
    "choose a solution that has a good balance between \\\n",
    "time complexity and space complexity. \n",
    "\n",
    "Here is a question:\n",
    "{input}\"\"\""
   ]
  },
  {
   "cell_type": "code",
   "execution_count": null,
   "id": "5f590e9f",
   "metadata": {
    "height": 402,
    "tags": []
   },
   "outputs": [],
   "source": [
    "prompt_infos = [\n",
    "    {\n",
    "        \"name\": \"physics\", \n",
    "        \"description\": \"Good for answering questions about physics\", \n",
    "        \"prompt_template\": physics_template\n",
    "    },\n",
    "    {\n",
    "        \"name\": \"math\", \n",
    "        \"description\": \"Good for answering math questions\", \n",
    "        \"prompt_template\": math_template\n",
    "    },\n",
    "    {\n",
    "        \"name\": \"History\", \n",
    "        \"description\": \"Good for answering history questions\", \n",
    "        \"prompt_template\": history_template\n",
    "    },\n",
    "    {\n",
    "        \"name\": \"computer science\", \n",
    "        \"description\": \"Good for answering computer science questions\", \n",
    "        \"prompt_template\": computerscience_template\n",
    "    }\n",
    "]"
   ]
  },
  {
   "cell_type": "code",
   "execution_count": null,
   "id": "31b06fc8",
   "metadata": {
    "height": 79,
    "tags": []
   },
   "outputs": [],
   "source": [
    "from langchain.chains.router import MultiPromptChain\n",
    "from langchain.chains.router.llm_router import LLMRouterChain,RouterOutputParser\n",
    "from langchain.prompts import PromptTemplate"
   ]
  },
  {
   "cell_type": "code",
   "execution_count": null,
   "id": "f3f50bcc",
   "metadata": {
    "height": 30,
    "tags": []
   },
   "outputs": [],
   "source": [
    "llm = ChatOpenAI(temperature=0, model=llm_model)"
   ]
  },
  {
   "cell_type": "code",
   "execution_count": null,
   "id": "8eefec24",
   "metadata": {
    "height": 215,
    "tags": []
   },
   "outputs": [],
   "source": [
    "\n",
    "destination_chains = {}\n",
    "for p_info in prompt_infos:\n",
    "    name = p_info[\"name\"]\n",
    "    prompt_template = p_info[\"prompt_template\"]\n",
    "    prompt = ChatPromptTemplate.from_template(template=prompt_template)\n",
    "    chain = LLMChain(llm=llm, prompt=prompt)\n",
    "    destination_chains[name] = chain  \n",
    "    \n",
    "destinations = [f\"{p['name']}: {p['description']}\" for p in prompt_infos]\n",
    "destinations_str = \"\\n\".join(destinations)"
   ]
  },
  {
   "cell_type": "code",
   "execution_count": null,
   "id": "9f98018a",
   "metadata": {
    "height": 47,
    "tags": []
   },
   "outputs": [],
   "source": [
    "default_prompt = ChatPromptTemplate.from_template(\"{input}\")\n",
    "default_chain = LLMChain(llm=llm, prompt=default_prompt)"
   ]
  },
  {
   "cell_type": "code",
   "execution_count": null,
   "id": "11b2e2ba",
   "metadata": {
    "height": 521,
    "tags": []
   },
   "outputs": [],
   "source": [
    "MULTI_PROMPT_ROUTER_TEMPLATE = \"\"\"Given a raw text input to a \\\n",
    "language model select the model prompt best suited for the input. \\\n",
    "You will be given the names of the available prompts and a \\\n",
    "description of what the prompt is best suited for. \\\n",
    "You may also revise the original input if you think that revising\\\n",
    "it will ultimately lead to a better response from the language model.\n",
    "\n",
    "<< FORMATTING >>\n",
    "Return a markdown code snippet with a JSON object formatted to look like:\n",
    "```json\n",
    "{{{{\n",
    "    \"destination\": string \\ name of the prompt to use or \"DEFAULT\"\n",
    "    \"next_inputs\": string \\ a potentially modified version of the original input\n",
    "}}}}\n",
    "```\n",
    "\n",
    "REMEMBER: \"destination\" MUST be one of the candidate prompt \\\n",
    "names specified below OR it can be \"DEFAULT\" if the input is not\\\n",
    "well suited for any of the candidate prompts.\n",
    "REMEMBER: \"next_inputs\" can just be the original input \\\n",
    "if you don't think any modifications are needed.\n",
    "\n",
    "<< CANDIDATE PROMPTS >>\n",
    "{destinations}\n",
    "\n",
    "<< INPUT >>\n",
    "{{input}}\n",
    "\n",
    "<< OUTPUT (remember to include the ```json)>>\"\"\""
   ]
  },
  {
   "cell_type": "code",
   "execution_count": null,
   "id": "1387109d",
   "metadata": {
    "height": 183,
    "tags": []
   },
   "outputs": [],
   "source": [
    "router_template = MULTI_PROMPT_ROUTER_TEMPLATE.format(\n",
    "    destinations=destinations_str\n",
    ")\n",
    "router_prompt = PromptTemplate(\n",
    "    template=router_template,\n",
    "    input_variables=[\"input\"],\n",
    "    output_parser=RouterOutputParser(),\n",
    ")\n",
    "\n",
    "router_chain = LLMRouterChain.from_llm(llm, router_prompt)"
   ]
  },
  {
   "cell_type": "code",
   "execution_count": null,
   "id": "2fb7d560",
   "metadata": {
    "height": 96,
    "tags": []
   },
   "outputs": [],
   "source": [
    "chain = MultiPromptChain(router_chain=router_chain, \n",
    "                         destination_chains=destination_chains, \n",
    "                         default_chain=default_chain, verbose=True\n",
    "                        )"
   ]
  },
  {
   "cell_type": "code",
   "execution_count": null,
   "id": "d86b2131",
   "metadata": {
    "height": 30,
    "tags": []
   },
   "outputs": [],
   "source": [
    "chain.run(\"What is black body radiation?\")"
   ]
  },
  {
   "cell_type": "code",
   "execution_count": null,
   "id": "3b717379",
   "metadata": {
    "height": 30,
    "tags": []
   },
   "outputs": [],
   "source": [
    "chain.run(\"what is 2 + 2\")"
   ]
  },
  {
   "cell_type": "code",
   "execution_count": null,
   "id": "29e5be01",
   "metadata": {
    "height": 30,
    "tags": []
   },
   "outputs": [],
   "source": [
    "chain.run(\"Why does every cell in our body contain DNA?\")"
   ]
  },
  {
   "cell_type": "markdown",
   "id": "069f0121-cf7b-464d-bb3d-6357719188ed",
   "metadata": {},
   "source": [
    "Reminder: Download your notebook to you local computer to save your work."
   ]
  },
  {
   "cell_type": "code",
   "execution_count": null,
   "id": "912633a1",
   "metadata": {
    "height": 30
   },
   "outputs": [],
   "source": []
  },
  {
   "cell_type": "code",
   "execution_count": null,
   "id": "d6378a95",
   "metadata": {
    "height": 30
   },
   "outputs": [],
   "source": []
  },
  {
   "cell_type": "code",
   "execution_count": null,
   "id": "0cd9456d",
   "metadata": {
    "height": 30
   },
   "outputs": [],
   "source": []
  },
  {
   "cell_type": "code",
   "execution_count": null,
   "id": "77c46ddf",
   "metadata": {
    "height": 30
   },
   "outputs": [],
   "source": []
  }
 ],
 "metadata": {
  "kernelspec": {
   "display_name": "Python 3",
   "language": "python",
   "name": "python3"
  },
  "language_info": {
   "codemirror_mode": {
    "name": "ipython",
    "version": 3
   },
   "file_extension": ".py",
   "mimetype": "text/x-python",
   "name": "python",
   "nbconvert_exporter": "python",
   "pygments_lexer": "ipython3",
   "version": "3.12.5"
  }
 },
 "nbformat": 4,
 "nbformat_minor": 5
}
