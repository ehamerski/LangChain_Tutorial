{
 "cells": [
  {
   "cell_type": "markdown",
   "metadata": {},
   "source": [
    "### Tips\n",
    "\n",
    "**Use Case:** Download all the folders and files from a tutorial or course, including those from DeepLearning.AI, from a Jupyter Notebook."
   ]
  },
  {
   "cell_type": "code",
   "execution_count": null,
   "metadata": {},
   "outputs": [],
   "source": [
    "# To compress files from a notebook server:\n",
    "!tar cvfz notebook.tar.gz *\n",
    "# Adjust the tar.gz path generation and the path of the files to be compressed.\n",
    "\n",
    "# Example: compress all the directory and files from the parent path of the current notebook\n",
    "!tar cvfz ../notebook.tar.gz ../*\n",
    "\n",
    "# After generating the tar.gz file:\n",
    "#\n",
    "# 1. Access: 'File > Open...'. \n",
    "#    It will open a new page showing the notebook files in the current path.\n",
    "#\n",
    "# 2. In the new page, navigate to the place where the tar.gz file was generate.\n",
    "#\n",
    "# 3. Click in the file tar.gz file.\n",
    "#    It will open a new page to present the file. Maybe an error message will be presented.\n",
    "#\n",
    "# 4. In the new page, access 'File > Download' to download the file."
   ]
  }
 ],
 "metadata": {
  "kernelspec": {
   "display_name": "Python 3",
   "language": "python",
   "name": "python3"
  },
  "language_info": {
   "name": "python",
   "version": "3.12.5"
  }
 },
 "nbformat": 4,
 "nbformat_minor": 2
}
