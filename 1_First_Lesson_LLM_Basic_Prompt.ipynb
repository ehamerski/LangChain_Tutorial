{
 "cells": [
  {
   "cell_type": "code",
   "execution_count": 2,
   "metadata": {},
   "outputs": [],
   "source": [
    "# How to load environment variables from .env file.\n",
    "# For ChatOpenAI, if there is an OPENAI_API_KEY defined in the system env or in the .env file, it is not necessary to load the variable programmatically.\n",
    "\n",
    "# pip install python-dotenv\n",
    "\n",
    "#import os\n",
    "#from dotenv import load_dotenv\n",
    "\n",
    "#load_dotenv(\".env\")\n",
    "#openai_api_key=os.getenv(\"OPENAI_API_KEY\")\n",
    "\n",
    "#print(openai_api_key)"
   ]
  },
  {
   "cell_type": "code",
   "execution_count": null,
   "metadata": {},
   "outputs": [],
   "source": [
    "# The os.environ map has the system env and also the .env file definitions.\n",
    "# The ChatOpenAI class uses this dictionary to the the key from the .env file.\n",
    "\n",
    "import os\n",
    "\n",
    "print(os.environ['OPENAI_API_KEY'])"
   ]
  },
  {
   "cell_type": "code",
   "execution_count": 4,
   "metadata": {},
   "outputs": [],
   "source": [
    "# pip install langchain\n",
    "# pip install lanchain_openai\n",
    "\n",
    "from langchain_openai import ChatOpenAI"
   ]
  },
  {
   "cell_type": "code",
   "execution_count": 5,
   "metadata": {},
   "outputs": [],
   "source": [
    "# Go to https://platform.openai.com/settings/profile?tab=api-keys and create a secret key for your project.\n",
    "# Add the key to the .env file.\n",
    "\n",
    "# If there is an OPENAI_API_KEY defined in the system env or in the .env file, it is not necessary to load and/or pass the api key to the ChatOpenAI constructor.\n",
    "# You can recovery the key by calling: llm.openai_api_key.get_secret_value()\n",
    "\n",
    "#llm = ChatOpenAI(openai_api_key=\"asdasdasd\")\n",
    "llm = ChatOpenAI()"
   ]
  },
  {
   "cell_type": "code",
   "execution_count": null,
   "metadata": {},
   "outputs": [],
   "source": [
    "# First call ...\n",
    "\n",
    "llm.invoke(\"Tell me a joke.\")\n",
    "# Response: AIMessage(content=\"Why don't scientists trust atoms?\\n\\nBecause they make up everything!\", additional_kwargs={'refusal': None}, response_metadata={'token_usage': {'completion_tokens': 13, 'prompt_tokens': 12, 'total_tokens': 25, 'completion_tokens_details': {'audio_tokens': 0, 'reasoning_tokens': 0, 'text_tokens': 0}, 'prompt_tokens_details': {'audio_tokens': None, 'cached_tokens': 0}}, 'model_name': 'gpt-3.5-turbo-0125', 'system_fingerprint': None, 'finish_reason': 'stop', 'logprobs': None}, id='run-cd71b40d-ba77-4e15-bd35-7bb72a0aeb1a-0', usage_metadata={'input_tokens': 12, 'output_tokens': 13, 'total_tokens': 25, 'input_token_details': {'cache_read': 0}, 'output_token_details': {'audio': 0, 'reasoning': 0}})"
   ]
  },
  {
   "cell_type": "code",
   "execution_count": 7,
   "metadata": {},
   "outputs": [],
   "source": [
    "# Creating a professional prompt ...\n",
    "\n",
    "from langchain_core.prompts import ChatPromptTemplate"
   ]
  },
  {
   "cell_type": "code",
   "execution_count": 8,
   "metadata": {},
   "outputs": [],
   "source": [
    "prompt = ChatPromptTemplate.from_messages(\n",
    "    [\n",
    "        #(\"system\", \"You are a good joke teller.\"),\n",
    "        #(\"user\", \"{user_input}\")\n",
    "\n",
    "        #(\"system\", \"You are a not helpful assistant who makes fun of anything.\"),\n",
    "        #(\"user\", \"I would like to understand {user_input}. Can you tell me more about it?\")\n",
    "\n",
    "        #(\"system\", \"You are a not helpful assistant who tells the opposite of the truth.\"),\n",
    "        #(\"user\", \"I would like to understand {user_input}. Can you tell me more about it?\")\n",
    "\n",
    "        (\"system\", \"You are a helpful assistant.\"),\n",
    "        (\"user\", \"I would like to understand {user_input}. Can you tell me more about it?\")\n",
    "    ]\n",
    ")"
   ]
  },
  {
   "cell_type": "code",
   "execution_count": 9,
   "metadata": {},
   "outputs": [],
   "source": [
    "# Adding the Output parser to this implementation too...\n",
    "\n",
    "from langchain_core.output_parsers import StrOutputParser"
   ]
  },
  {
   "cell_type": "code",
   "execution_count": 11,
   "metadata": {},
   "outputs": [],
   "source": [
    "# Create the output parser...\n",
    "\n",
    "out_parser = StrOutputParser()"
   ]
  },
  {
   "cell_type": "code",
   "execution_count": 15,
   "metadata": {},
   "outputs": [],
   "source": [
    "# You can extend the previous defined prompt by calling: prompt.extend()\n",
    "# But let's keep it simple for now...\n",
    "\n",
    "# It creates a simple chain that takes the prompt and passes it to the chat model to be processed by the llm.\n",
    "chain = prompt | llm | out_parser"
   ]
  },
  {
   "cell_type": "code",
   "execution_count": 16,
   "metadata": {},
   "outputs": [],
   "source": [
    "#ai_message = chain.invoke({\"user_input\": \"Tell me a joke about Newton.\"})\n",
    "ai_message = chain.invoke({\"user_input\": \"The Earth\"})"
   ]
  },
  {
   "cell_type": "code",
   "execution_count": null,
   "metadata": {},
   "outputs": [],
   "source": [
    "# Let's inspect the result structure...\n",
    "ai_message\n",
    "\n",
    "# Before adding the output parser...\n",
    "# AIMessage(content=\"Of course! The Earth is the third planet from the Sun in our solar system and is the only known celestial body to support life. It has a diameter of about 12,742 kilometers (7,918 miles) and a mass of approximately 5.97 x 10^24 kilograms. The Earth is unique in our solar system because of its diverse ecosystems, abundant water, and atmosphere that supports life as we know it.\\n\\nThe Earth is divided into several layers, including the solid outer crust, the mantle, and the core. The Earth's atmosphere is composed of several layers, with the troposphere being the layer closest to the surface where weather occurs.\\n\\nThe Earth rotates on its axis, causing day and night, and orbits the Sun, completing one orbit approximately every 365.25 days, which we call a year. The tilt of the Earth's axis is responsible for the changing seasons.\\n\\nThe Earth is home to a wide variety of plant and animal species, and its diverse ecosystems provide habitats for millions of species. Humans have had a significant impact on the Earth's environment through activities such as deforestation, pollution, and climate change.\\n\\nOverall, the Earth is a fascinating and complex planet that provides a unique and hospitable environment for life to thrive.\", additional_kwargs={'refusal': None}, response_metadata={'token_usage': {'completion_tokens': 253, 'prompt_tokens': 33, 'total_tokens': 286, 'completion_tokens_details': {'audio_tokens': 0, 'reasoning_tokens': 0, 'text_tokens': 0}, 'prompt_tokens_details': {'audio_tokens': None, 'cached_tokens': 0}}, 'model_name': 'gpt-3.5-turbo-0125', 'system_fingerprint': None, 'finish_reason': 'stop', 'logprobs': None}, id='run-684a83f1-e645-4b32-9fd6-c607b4c96ea0-0', usage_metadata={'input_tokens': 33, 'output_tokens': 253, 'total_tokens': 286, 'input_token_details': {'cache_read': 0}, 'output_token_details': {'audio': 0, 'reasoning': 0}})\n",
    "\n",
    "# After adding the output parser...\n",
    "# 'Certainly! The Earth is the third planet from the Sun and the only known planet to support life. It is a complex and dynamic planet, with a diverse range of ecosystems and environments. Here are some key facts about Earth:\\n\\n1. Size and Composition: Earth is about 4.5 billion years old and has a diameter of approximately 12,742 kilometers (7,918 miles). It is composed of different layers, including the solid inner core, liquid outer core, mantle, and crust.\\n\\n2. Atmosphere: Earth\\'s atmosphere is composed of nitrogen (about 78%), oxygen (about 21%), and trace amounts of other gases such as carbon dioxide and water vapor. The atmosphere plays a crucial role in regulating the planet\\'s temperature and supporting life.\\n\\n3. Water: Earth is often called the \"Blue Planet\" because of its abundance of water. Water covers about 71% of the Earth\\'s surface and is essential for all forms of life. It exists in various forms, including oceans, rivers, lakes, and ice caps.\\n\\n4. Biodiversity: Earth is home to a vast array of living organisms, from microscopic bacteria to giant whales. The planet\\'s biodiversity is influenced by factors such as climate, geography, and evolutionary history.\\n\\n5. Tectonic Activity: Earth\\'s surface is divided into several rigid plates that float on the semi-fluid mantle below. These tectonic plates are in constant motion, leading to phenomena such as earthquakes, volcanic eruptions, and the formation of mountain ranges.\\n\\n6. Climate: Earth\\'s climate is influenced by factors such as the Sun\\'s energy, atmospheric circulation, ocean currents, and greenhouse gases. Human activities, such as burning fossil fuels and deforestation, have led to changes in the Earth\\'s climate, resulting in global warming and other environmental issues.\\n\\n7. Protection: Earth\\'s magnetic field and ozone layer provide protection against harmful solar radiation and cosmic particles. However, human activities, such as pollution and deforestation, can threaten these natural defenses.\\n\\nOverall, Earth is a unique and precious planet that provides a habitat for a wide variety of life forms. It is essential for us to protect and preserve the Earth\\'s environment to ensure a sustainable future for generations to come.'\n",
    "# Now it is a string."
   ]
  },
  {
   "cell_type": "code",
   "execution_count": null,
   "metadata": {},
   "outputs": [],
   "source": [
    "#print(ai_message.content)\n",
    "print(ai_message)\n",
    "\n",
    "# Why did Newton become a vegetarian?\n",
    "# Because he didn't want any beef with gravity!\n",
    "\n",
    "# Oh, you want to understand The Earth? Good luck with that! It's only a 4.5 billion-year-old rock hurtling through space at thousands of miles per hour. But sure, I'll try to explain it to you in a few sentences.\n",
    "\n",
    "# Oh, The Earth is actually a flat square, not a round sphere as commonly believed. It is the center of the universe and everything revolves around it.\n",
    "\n",
    "# Of course! The Earth is the third planet from the Sun in our solar system and is the only known planet to support life. It has a diverse range of ecosystems, from vast oceans to lush forests to barren deserts. The Earth is about 4.5 billion years old and is made up of several layers, including the crust, mantle, outer core, and inner core.\n",
    "# The Earth orbits the Sun at an average distance of about 93 million miles, which is just the right distance to support life. It takes about 365 days for the Earth to complete one orbit around the Sun, which is why we have a year. The Earth also rotates on its axis, which gives us day and night. It takes about 24 hours for the Earth to complete one rotation.\n",
    "# The Earth is home to a wide variety of plant and animal species, including humans. It has a complex climate system that includes factors such as temperature, precipitation, and wind patterns. The Earth's atmosphere plays a crucial role in regulating the planet's temperature and protecting it from harmful solar radiation.\n",
    "# Overall, the Earth is a fascinating and unique planet that provides a habitable environment for a diverse range of living organisms."
   ]
  },
  {
   "cell_type": "code",
   "execution_count": null,
   "metadata": {},
   "outputs": [],
   "source": []
  }
 ],
 "metadata": {
  "kernelspec": {
   "display_name": "Python 3",
   "language": "python",
   "name": "python3"
  },
  "language_info": {
   "codemirror_mode": {
    "name": "ipython",
    "version": 3
   },
   "file_extension": ".py",
   "mimetype": "text/x-python",
   "name": "python",
   "nbconvert_exporter": "python",
   "pygments_lexer": "ipython3",
   "version": "3.12.5"
  }
 },
 "nbformat": 4,
 "nbformat_minor": 2
}
