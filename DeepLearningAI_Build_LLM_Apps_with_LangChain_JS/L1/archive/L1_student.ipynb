{
 "cells": [
  {
   "cell_type": "markdown",
   "id": "749a4f80-392c-411e-8b1f-99ef63d32ddd",
   "metadata": {},
   "source": [
    "# Lesson 1: Building blocks"
   ]
  },
  {
   "cell_type": "markdown",
   "id": "299a550a-19fe-4eb9-a3e5-98d506c17647",
   "metadata": {},
   "source": [
    "# Language Models\n",
    "\n",
    "1. Text LLMs: string -> string output\n",
    "2. Chat model: list of messages -> single message output"
   ]
  },
  {
   "cell_type": "code",
   "execution_count": 7,
   "id": "c2581cfc-aec6-4600-860c-1e100d42a382",
   "metadata": {},
   "outputs": [
    {
     "data": {
      "text/plain": [
       "[Module: null prototype] { default: {} }"
      ]
     },
     "execution_count": 7,
     "metadata": {},
     "output_type": "execute_result"
    }
   ],
   "source": [
    "import \"dotenv/config\";"
   ]
  },
  {
   "cell_type": "code",
   "execution_count": 8,
   "id": "10a566f9-4c8e-4199-a394-f52baaceac4d",
   "metadata": {},
   "outputs": [
    {
     "data": {
      "text/plain": [
       "AIMessage {\n",
       "  lc_serializable: \u001b[33mtrue\u001b[39m,\n",
       "  lc_kwargs: {\n",
       "    content: \u001b[32m\"Why don't skeletons fight each other?\\nThey don't have the guts!\"\u001b[39m,\n",
       "    additional_kwargs: { function_call: \u001b[90mundefined\u001b[39m, tool_calls: \u001b[90mundefined\u001b[39m }\n",
       "  },\n",
       "  lc_namespace: [ \u001b[32m\"langchain_core\"\u001b[39m, \u001b[32m\"messages\"\u001b[39m ],\n",
       "  content: \u001b[32m\"Why don't skeletons fight each other?\\nThey don't have the guts!\"\u001b[39m,\n",
       "  name: \u001b[90mundefined\u001b[39m,\n",
       "  additional_kwargs: { function_call: \u001b[90mundefined\u001b[39m, tool_calls: \u001b[90mundefined\u001b[39m }\n",
       "}"
      ]
     },
     "execution_count": 8,
     "metadata": {},
     "output_type": "execute_result"
    }
   ],
   "source": [
    "import { ChatOpenAI } from \"langchain/chat_models/openai\";\n",
    "import { HumanMessage } from \"langchain/schema\";\n",
    "\n",
    "const model = new ChatOpenAI({\n",
    "    modelName: \"gpt-3.5-turbo-1106\"\n",
    "});\n",
    "\n",
    "await model.invoke([\n",
    "    new HumanMessage(\"Tell me a joke\")\n",
    "]);"
   ]
  },
  {
   "cell_type": "markdown",
   "id": "8e98aa97-66a7-4588-94d3-90ce3dffcbca",
   "metadata": {},
   "source": [
    "# Prompt Template"
   ]
  },
  {
   "cell_type": "code",
   "execution_count": null,
   "id": "9699b4e1-a46c-44e2-8f13-2f6ff62f49e9",
   "metadata": {},
   "outputs": [],
   "source": [
    "import { ChatPromptTemplate } from \"langchain/prompts\";\n",
    "\n",
    "const prompt = ChatPromptTemplate.fromTemplate(\n",
    "    `What are three good names for a company that makes {product}?`\n",
    ");"
   ]
  },
  {
   "cell_type": "code",
   "execution_count": 9,
   "id": "8219b6ca-bf2d-4471-91f8-b3e6870ce07e",
   "metadata": {},
   "outputs": [
    {
     "data": {
      "text/plain": [
       "\u001b[32m\"Human: What are three good names ofr a company that makes colorful socks?\"\u001b[39m"
      ]
     },
     "execution_count": 9,
     "metadata": {},
     "output_type": "execute_result"
    }
   ],
   "source": [
    "await prompt.format({\n",
    "    product: \"colorful socks\"\n",
    "});"
   ]
  },
  {
   "cell_type": "code",
   "execution_count": 11,
   "id": "66d091de-c9a8-429f-8bda-d43b489cdace",
   "metadata": {},
   "outputs": [
    {
     "data": {
      "text/plain": [
       "[\n",
       "  HumanMessage {\n",
       "    lc_serializable: \u001b[33mtrue\u001b[39m,\n",
       "    lc_kwargs: {\n",
       "      content: \u001b[32m\"What are three good names ofr a company that makes colorful socks?\"\u001b[39m,\n",
       "      additional_kwargs: {}\n",
       "    },\n",
       "    lc_namespace: [ \u001b[32m\"langchain_core\"\u001b[39m, \u001b[32m\"messages\"\u001b[39m ],\n",
       "    content: \u001b[32m\"What are three good names ofr a company that makes colorful socks?\"\u001b[39m,\n",
       "    name: \u001b[90mundefined\u001b[39m,\n",
       "    additional_kwargs: {}\n",
       "  }\n",
       "]"
      ]
     },
     "execution_count": 11,
     "metadata": {},
     "output_type": "execute_result"
    }
   ],
   "source": [
    "await prompt.formatMessages({\n",
    "    product: \"colorful socks\"\n",
    "});"
   ]
  },
  {
   "cell_type": "code",
   "execution_count": 12,
   "id": "c0ce99cb-ab2f-4443-93c8-a5f7c979de71",
   "metadata": {},
   "outputs": [
    {
     "data": {
      "text/plain": [
       "[\n",
       "  SystemMessage {\n",
       "    lc_serializable: \u001b[33mtrue\u001b[39m,\n",
       "    lc_kwargs: {\n",
       "      content: \u001b[32m\"You are an expert at picking company names.\"\u001b[39m,\n",
       "      additional_kwargs: {}\n",
       "    },\n",
       "    lc_namespace: [ \u001b[32m\"langchain_core\"\u001b[39m, \u001b[32m\"messages\"\u001b[39m ],\n",
       "    content: \u001b[32m\"You are an expert at picking company names.\"\u001b[39m,\n",
       "    name: \u001b[90mundefined\u001b[39m,\n",
       "    additional_kwargs: {}\n",
       "  },\n",
       "  HumanMessage {\n",
       "    lc_serializable: \u001b[33mtrue\u001b[39m,\n",
       "    lc_kwargs: {\n",
       "      content: \u001b[32m\"What are three good names for a company that makes shiny objects?\"\u001b[39m,\n",
       "      additional_kwargs: {}\n",
       "    },\n",
       "    lc_namespace: [ \u001b[32m\"langchain_core\"\u001b[39m, \u001b[32m\"messages\"\u001b[39m ],\n",
       "    content: \u001b[32m\"What are three good names for a company that makes shiny objects?\"\u001b[39m,\n",
       "    name: \u001b[90mundefined\u001b[39m,\n",
       "    additional_kwargs: {}\n",
       "  }\n",
       "]"
      ]
     },
     "execution_count": 12,
     "metadata": {},
     "output_type": "execute_result"
    }
   ],
   "source": [
    "import { \n",
    "  SystemMessagePromptTemplate, \n",
    "  HumanMessagePromptTemplate \n",
    "} from \"langchain/prompts\";\n",
    "\n",
    "const promptFromMessages = ChatPromptTemplate.fromMessages([\n",
    "  SystemMessagePromptTemplate.fromTemplate(\n",
    "    \"You are an expert at picking company names.\"\n",
    "  ),\n",
    "  HumanMessagePromptTemplate.fromTemplate(\n",
    "    \"What are three good names for a company that makes {product}?\"\n",
    "  )\n",
    "]);\n",
    "\n",
    "await promptFromMessages.formatMessages({\n",
    "    product: \"shiny objects\"\n",
    "})"
   ]
  },
  {
   "cell_type": "code",
   "execution_count": 13,
   "id": "7be9d41f-64c2-4839-a8fd-c2f32a33c5dc",
   "metadata": {},
   "outputs": [
    {
     "data": {
      "text/plain": [
       "[\n",
       "  SystemMessage {\n",
       "    lc_serializable: \u001b[33mtrue\u001b[39m,\n",
       "    lc_kwargs: {\n",
       "      content: \u001b[32m\"You are an expert at picking company names.\"\u001b[39m,\n",
       "      additional_kwargs: {}\n",
       "    },\n",
       "    lc_namespace: [ \u001b[32m\"langchain_core\"\u001b[39m, \u001b[32m\"messages\"\u001b[39m ],\n",
       "    content: \u001b[32m\"You are an expert at picking company names.\"\u001b[39m,\n",
       "    name: \u001b[90mundefined\u001b[39m,\n",
       "    additional_kwargs: {}\n",
       "  },\n",
       "  HumanMessage {\n",
       "    lc_serializable: \u001b[33mtrue\u001b[39m,\n",
       "    lc_kwargs: {\n",
       "      content: \u001b[32m\"What are three good names for a company that makes shiny objects?\"\u001b[39m,\n",
       "      additional_kwargs: {}\n",
       "    },\n",
       "    lc_namespace: [ \u001b[32m\"langchain_core\"\u001b[39m, \u001b[32m\"messages\"\u001b[39m ],\n",
       "    content: \u001b[32m\"What are three good names for a company that makes shiny objects?\"\u001b[39m,\n",
       "    name: \u001b[90mundefined\u001b[39m,\n",
       "    additional_kwargs: {}\n",
       "  }\n",
       "]"
      ]
     },
     "execution_count": 13,
     "metadata": {},
     "output_type": "execute_result"
    }
   ],
   "source": [
    "const promptFromMessages = ChatPromptTemplate.fromMessages([\n",
    "      [\"system\", \"You are an expert at picking company names.\"],\n",
    "      [\"human\", \"What are three good names for a company that makes {product}?\"]\n",
    "])\n",
    "\n",
    "await promptFromMessages.formatMessages({\n",
    "    product: \"shiny objects\"\n",
    "});"
   ]
  },
  {
   "cell_type": "markdown",
   "id": "19c9a6b7-811f-4eaa-8ecb-a6ee7eb496f0",
   "metadata": {},
   "source": [
    "# LangChain Expression Language (LCEL)"
   ]
  },
  {
   "cell_type": "code",
   "execution_count": 14,
   "id": "0d678f1d-c37c-462f-96ba-d1c84ab35482",
   "metadata": {},
   "outputs": [],
   "source": [
    "const chain = prompt.pipe(model);"
   ]
  },
  {
   "cell_type": "code",
   "execution_count": 15,
   "id": "18f6254b-5eaf-4867-999b-97d08f96cee9",
   "metadata": {},
   "outputs": [
    {
     "data": {
      "text/plain": [
       "AIMessage {\n",
       "  lc_serializable: \u001b[33mtrue\u001b[39m,\n",
       "  lc_kwargs: {\n",
       "    content: \u001b[32m\"1. Rainbow Hues Socks Co.\\n2. ChromaSock\\n3. Vivid Threads Sock Company\"\u001b[39m,\n",
       "    additional_kwargs: { function_call: \u001b[90mundefined\u001b[39m, tool_calls: \u001b[90mundefined\u001b[39m }\n",
       "  },\n",
       "  lc_namespace: [ \u001b[32m\"langchain_core\"\u001b[39m, \u001b[32m\"messages\"\u001b[39m ],\n",
       "  content: \u001b[32m\"1. Rainbow Hues Socks Co.\\n2. ChromaSock\\n3. Vivid Threads Sock Company\"\u001b[39m,\n",
       "  name: \u001b[90mundefined\u001b[39m,\n",
       "  additional_kwargs: { function_call: \u001b[90mundefined\u001b[39m, tool_calls: \u001b[90mundefined\u001b[39m }\n",
       "}"
      ]
     },
     "execution_count": 15,
     "metadata": {},
     "output_type": "execute_result"
    }
   ],
   "source": [
    "await chain.invoke({\n",
    "    product: \"colorful socks\"\n",
    "});"
   ]
  },
  {
   "cell_type": "markdown",
   "id": "c5702fa5-29c4-48fb-8635-d7f2177d88d0",
   "metadata": {},
   "source": [
    "# Output Parser"
   ]
  },
  {
   "cell_type": "code",
   "execution_count": 16,
   "id": "8b25e21c-28d0-4329-852e-b96a14c38529",
   "metadata": {},
   "outputs": [],
   "source": [
    "import { StringOutputParser } from \"langchain/schema/output_parser\";\n",
    "\n",
    "const outputParser = new StringOutputParser();\n",
    "\n",
    "const nameGenerationChain = prompt.pipe(model).pipe(outputParser);"
   ]
  },
  {
   "cell_type": "code",
   "execution_count": 17,
   "id": "520b4a9b-89de-4652-b238-b7dddbd5a2c2",
   "metadata": {},
   "outputs": [
    {
     "data": {
      "text/plain": [
       "\u001b[32m\"1. Decadent Delights\\n2. Gourmet Gildings\\n3. Luxe Bites\"\u001b[39m"
      ]
     },
     "execution_count": 17,
     "metadata": {},
     "output_type": "execute_result"
    }
   ],
   "source": [
    "await nameGenerationChain.invoke({\n",
    "  product: \"fancy cookies\",\n",
    "});"
   ]
  },
  {
   "cell_type": "markdown",
   "id": "cfea2865-3117-47b9-9bc2-17ae380f0df3",
   "metadata": {},
   "source": [
    "https://smith.langchain.com/public/9fd7689f-23c6-4ea1-8a76-fea1b5f8d5db/r"
   ]
  },
  {
   "cell_type": "markdown",
   "id": "dc883b7c-3c30-4d21-a952-b5df675497fa",
   "metadata": {},
   "source": [
    "# Streaming"
   ]
  },
  {
   "cell_type": "code",
   "execution_count": 19,
   "id": "9cb3853d-826c-4e1f-a413-9f9f0faf62fe",
   "metadata": {},
   "outputs": [
    {
     "name": "stdout",
     "output_type": "stream",
     "text": [
      "\n",
      "1\n",
      ".\n",
      " Future\n",
      "Tech\n",
      " Robotics\n",
      "\n",
      "\n",
      "2\n",
      ".\n",
      " Rob\n",
      "o\n",
      "Gen\n",
      "ius\n",
      "\n",
      "\n",
      "3\n",
      ".\n",
      " Mech\n",
      "Master\n",
      " Inc\n",
      ".\n",
      "\n"
     ]
    }
   ],
   "source": [
    "const stream = await nameGenerationChain.stream({\n",
    "    product: \"really cool robots\"\n",
    "});\n",
    "\n",
    "for await (const chunk of stream) {\n",
    "    console.log(chunk);\n",
    "}"
   ]
  },
  {
   "cell_type": "markdown",
   "id": "dffada72-b930-431a-a049-4b7eed53f34e",
   "metadata": {},
   "source": [
    "# Batch"
   ]
  },
  {
   "cell_type": "code",
   "execution_count": 20,
   "id": "c8f81c9f-88d7-470a-b597-c4137c9d35a4",
   "metadata": {},
   "outputs": [
    {
     "data": {
      "text/plain": [
       "[\n",
       "  \u001b[32m\"1. BigCalc Co.\\n2. JumboMath Inc.\\n3. HighCalcs Corp.\"\u001b[39m,\n",
       "  \u001b[32m\"1. AlpacaCozy\\n2. AndeanThreads\\n3. CosyCamelids\"\u001b[39m\n",
       "]"
      ]
     },
     "execution_count": 20,
     "metadata": {},
     "output_type": "execute_result"
    }
   ],
   "source": [
    "const input = [\n",
    "    {\n",
    "        product: \"large calculators\"\n",
    "    },\n",
    "    {\n",
    "        product: \"alpaca wool sweaters\"\n",
    "    }\n",
    "];\n",
    "\n",
    "await nameGenerationChain.batch(input);"
   ]
  },
  {
   "cell_type": "code",
   "execution_count": null,
   "id": "c3b2e1ba-0419-4276-bdb4-3b044b3a7f46",
   "metadata": {},
   "outputs": [],
   "source": []
  },
  {
   "cell_type": "code",
   "execution_count": null,
   "id": "24bc88b0-851c-4304-a085-ac0cba9f615f",
   "metadata": {},
   "outputs": [],
   "source": []
  },
  {
   "cell_type": "code",
   "execution_count": null,
   "id": "f35a5209-e820-496b-9abc-60ade9f22d7c",
   "metadata": {},
   "outputs": [],
   "source": []
  },
  {
   "cell_type": "code",
   "execution_count": null,
   "id": "ebc26867-8376-4358-9525-221227967091",
   "metadata": {},
   "outputs": [],
   "source": []
  },
  {
   "cell_type": "code",
   "execution_count": null,
   "id": "0ac36205-de1c-4cfb-81e8-9c9d1525b338",
   "metadata": {},
   "outputs": [],
   "source": []
  },
  {
   "cell_type": "code",
   "execution_count": null,
   "id": "b547772d-4f1f-48e8-b381-138b30d993af",
   "metadata": {},
   "outputs": [],
   "source": []
  },
  {
   "cell_type": "code",
   "execution_count": null,
   "id": "ac25b85d-dd40-42a1-8374-6c778e86c9d8",
   "metadata": {},
   "outputs": [],
   "source": []
  },
  {
   "cell_type": "code",
   "execution_count": null,
   "id": "7af107da-cf4c-4900-a456-d131ff8fbc80",
   "metadata": {},
   "outputs": [],
   "source": []
  },
  {
   "cell_type": "code",
   "execution_count": null,
   "id": "fbcaa28f-5057-4109-80c1-406ec47bd9eb",
   "metadata": {},
   "outputs": [],
   "source": []
  },
  {
   "cell_type": "code",
   "execution_count": null,
   "id": "464b5f7d-75e0-4366-8adf-48053f19229d",
   "metadata": {},
   "outputs": [],
   "source": []
  },
  {
   "cell_type": "code",
   "execution_count": null,
   "id": "e50feff9-72d1-4c1a-96b9-ec80ccde87f9",
   "metadata": {},
   "outputs": [],
   "source": []
  },
  {
   "cell_type": "code",
   "execution_count": null,
   "id": "258343e5-e488-4c2c-938b-8c3189ef959d",
   "metadata": {},
   "outputs": [],
   "source": []
  },
  {
   "cell_type": "code",
   "execution_count": null,
   "id": "6ec20e0c-389f-4cd1-b5df-67f6d706fb4e",
   "metadata": {},
   "outputs": [],
   "source": []
  },
  {
   "cell_type": "code",
   "execution_count": null,
   "id": "a4b2b76f-f963-4226-95f1-42d15487f0ca",
   "metadata": {},
   "outputs": [],
   "source": []
  },
  {
   "cell_type": "code",
   "execution_count": null,
   "id": "99a497d1-0587-431b-bc54-657e935af6df",
   "metadata": {},
   "outputs": [],
   "source": []
  },
  {
   "cell_type": "code",
   "execution_count": null,
   "id": "12805d9a-d5fe-48d5-acf3-d88a929e9d21",
   "metadata": {},
   "outputs": [],
   "source": []
  },
  {
   "cell_type": "code",
   "execution_count": null,
   "id": "56d65826-7917-4a51-b937-37d3d460c5eb",
   "metadata": {},
   "outputs": [],
   "source": []
  },
  {
   "cell_type": "code",
   "execution_count": null,
   "id": "fc803c79-ef69-4539-b2eb-da3cd89cb134",
   "metadata": {},
   "outputs": [],
   "source": []
  },
  {
   "cell_type": "code",
   "execution_count": null,
   "id": "9ca4ed79-d80a-4d26-9832-1c13b7eb9085",
   "metadata": {},
   "outputs": [],
   "source": []
  },
  {
   "cell_type": "code",
   "execution_count": null,
   "id": "241f7da1-51d2-4bc8-8ea8-a76eb80a70cf",
   "metadata": {},
   "outputs": [],
   "source": []
  },
  {
   "cell_type": "code",
   "execution_count": null,
   "id": "c838bf09-8369-4942-a78f-73a94b74d602",
   "metadata": {},
   "outputs": [],
   "source": []
  },
  {
   "cell_type": "code",
   "execution_count": null,
   "id": "e815c815-4354-46b7-b6fd-e4c2043176d8",
   "metadata": {},
   "outputs": [],
   "source": []
  },
  {
   "cell_type": "code",
   "execution_count": null,
   "id": "eff1e227-7b94-447d-a23f-dd10dbb5da15",
   "metadata": {},
   "outputs": [],
   "source": []
  },
  {
   "cell_type": "code",
   "execution_count": null,
   "id": "2416b2d4-d329-4876-8f47-981321c6c16e",
   "metadata": {},
   "outputs": [],
   "source": []
  },
  {
   "cell_type": "code",
   "execution_count": null,
   "id": "a6736e91-bc01-4f17-a6ea-6cc455d6723c",
   "metadata": {},
   "outputs": [],
   "source": []
  },
  {
   "cell_type": "code",
   "execution_count": null,
   "id": "2d10e4ed-1298-48bd-906e-00d585c1106a",
   "metadata": {},
   "outputs": [],
   "source": []
  },
  {
   "cell_type": "code",
   "execution_count": null,
   "id": "4f716a57-4284-4b82-a263-7d263dc5fdb8",
   "metadata": {},
   "outputs": [],
   "source": []
  },
  {
   "cell_type": "code",
   "execution_count": null,
   "id": "a169cb0c-a66d-487d-a9da-8aa834ebbd71",
   "metadata": {},
   "outputs": [],
   "source": []
  },
  {
   "cell_type": "code",
   "execution_count": null,
   "id": "67198cbc-9731-490a-85d2-4db5c8169735",
   "metadata": {},
   "outputs": [],
   "source": []
  },
  {
   "cell_type": "code",
   "execution_count": null,
   "id": "629025a3-62df-497e-990b-dac252673994",
   "metadata": {},
   "outputs": [],
   "source": []
  },
  {
   "cell_type": "code",
   "execution_count": null,
   "id": "a17b821d-4a8f-4319-a7e3-0e70982decbd",
   "metadata": {},
   "outputs": [],
   "source": []
  },
  {
   "cell_type": "code",
   "execution_count": null,
   "id": "d2c2ef03-cbea-42ca-877e-b867936a3459",
   "metadata": {},
   "outputs": [],
   "source": []
  },
  {
   "cell_type": "code",
   "execution_count": null,
   "id": "b8e56d1e-17e2-4c11-984a-da63e0d13e55",
   "metadata": {},
   "outputs": [],
   "source": []
  }
 ],
 "metadata": {
  "kernelspec": {
   "display_name": "Deno",
   "language": "typescript",
   "name": "deno"
  },
  "language_info": {
   "file_extension": ".ts",
   "mimetype": "text/x.typescript",
   "name": "typescript",
   "nb_converter": "script",
   "pygments_lexer": "typescript",
   "version": "5.2.2"
  }
 },
 "nbformat": 4,
 "nbformat_minor": 5
}
