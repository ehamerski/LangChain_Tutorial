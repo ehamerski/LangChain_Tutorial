{
 "cells": [
  {
   "cell_type": "code",
   "execution_count": null,
   "metadata": {},
   "outputs": [],
   "source": [
    "# Create an at https://apps.compu-flair.com/user/register\n",
    "# Go to https://apps.compu-flair.com/\n",
    "# In the ChatAI, search for: Do you have a pipeline to generate structured outputs using open chat model?\n",
    "\n",
    "# You:\n",
    "# ====\n",
    "# Do you have a pipeline to generate structured outputs using open chat model?\n",
    "\n",
    "# ChatAI:\n",
    "# Yes, there is a pipeline to generate structured outputs using the OpenAI chat model. You can refer to Pipeline ID 4862, which demonstrates how to use the new Structured Outputs feature in the API. This pipeline shows how to create structured outputs in LangChain by defining functions, binding them to the language model, and obtaining structured outputs that can be fed back into the functions for final results.\n",
    "# Select a Pipeline to Get Into its Details: \n",
    "# Options: ...\n",
    "# [Select -> (Pipeline ID 4862) -- Structured Outputs in OpenAI API]\n",
    "\n",
    "# Chat AI:\n",
    "# ========\n",
    "# (Pipeline ID 4862) -- Structured Outputs in OpenAI API [citation]:\n",
    "# This script demonstrates the integration of language models with computational tools to enhance automated reasoning and problem-solving capabilities. It utilizes the `langchain_openai` and `langchain_core` libraries to bind mathematical functions as tools to a language model, enabling it to perform arithmetic operations and solve algebraic equations. The model processes natural language queries, identifies the required computations, and invokes the appropriate tools to generate structured responses, showcasing a practical application of AI in educational contexts.\n",
    "# \n",
    "# Below is the template created by a human:\n",
    "# \n",
    "# Step 1:\n",
    "# In this step, the code imports necessary modules, loads environment variables from a `.env` file located one directory up, and retrieves the `openai_api_key` value from these variables.\n",
    "# ...\n",
    "# \n",
    "# Step 2:\n",
    "# In this step, the code initializes a chat model using the `ChatOpenAI` class from the `langchain_openai` library, setting parameters like model type, temperature, and API key, then sends a message \"hi\".\n",
    "# ...\n",
    "# \n",
    "# Step 3:\n",
    "# In this step, two functions, `add` and `multiply`, are defined using the `@tool` decorator from `langchain_core.tools`. These functions perform addition and multiplication of two integers, respectively.\n",
    "# ...\n",
    "# \n",
    "# Step 4:\n",
    "# In this step, the code binds the functions 'add' and 'multiply' to the 'llm' object using 'bind_tools', with 'strict' mode enabled, ensuring only these tools are used.\n",
    "# ...\n",
    "# \n",
    "# Step 5:\n",
    "# In this step, the code creates a query asking two math questions, sends it to an AI model using `llm_with_tools.invoke`, and stores the AI's response.\n",
    "# ...\n",
    "# \n",
    "# Step 6:\n",
    "# In this step, the code defines a dictionary mapping tool names to functions, processes tool calls from messages, invokes the corresponding function, and collects the outputs in a list of messages.\n",
    "# ...\n",
    "# \n",
    "# Step 7:\n",
    "# In this step, the code defines two classes using Pydantic for a math tutor program: `Step` for individual steps in a solution, and `MathResponse` for the overall math problem response.\n",
    "# ...\n",
    "# \n",
    "# Step 8:\n",
    "# In this step, the code binds the `MathResponse` tool to the `llm` object using `bind_tools`, allowing `llm` to use math-related functionalities. The `strict=False` parameter enables flexible binding.\n",
    "# ...\n",
    "# \n",
    "# Step 9:\n",
    "# In this step, the code defines a math problem query and invokes a math tutor assistant LLM to solve it. The result of the tool's computation is then accessed through `ai_msg.tool_calls`.\n",
    "# ...\n",
    "# \n",
    "# Step 10:\n",
    "# In this code, each step of a math problem is printed sequentially from a list of steps stored in `ai_msg.tool_calls[0]['args']['steps']`. The final answer is also printed.\n",
    "# ..."
   ]
  },
  {
   "cell_type": "code",
   "execution_count": null,
   "metadata": {},
   "outputs": [],
   "source": [
    "from langchain_openai import ChatOpenAI\n",
    "\n",
    "llm = ChatOpenAI(\n",
    "    model=\"gpt-4o\",\n",
    "    temperature=0,\n",
    "    max_tokens=None,\n",
    "    timeout=None,\n",
    "    max_retries=2,\n",
    "#   api_key=openai_api_key\n",
    ")\n",
    "\n",
    "ai_msg = llm.invoke(\"hi\")\n",
    "\n",
    "ai_msg.content\n",
    "\n",
    "# 'Hello! How can I assist you today?'"
   ]
  },
  {
   "cell_type": "code",
   "execution_count": 2,
   "metadata": {},
   "outputs": [],
   "source": [
    "from langchain_core.tools import tool\n",
    "\n",
    "@tool\n",
    "def add(a: int, b: int) -> int:\n",
    "    \"\"\"Adds a and b.\n",
    "    \n",
    "    Args:\n",
    "        a: first int\n",
    "        b: second int\n",
    "    \"\"\"\n",
    "    return a + b\n",
    "\n",
    "@tool\n",
    "def multiply(a: int, b: int) -> int:\n",
    "    \"\"\"Multiplies a and b.\n",
    "\n",
    "    Args:\n",
    "        a: first int\n",
    "        b: second int\n",
    "    \"\"\"\n",
    "    return a * b"
   ]
  },
  {
   "cell_type": "code",
   "execution_count": 3,
   "metadata": {},
   "outputs": [],
   "source": [
    "tools = [add, multiply]\n",
    "llm_with_tools = llm.bind_tools(tools, strict=True)\n",
    "# Importante: strict=True"
   ]
  },
  {
   "cell_type": "code",
   "execution_count": null,
   "metadata": {},
   "outputs": [],
   "source": [
    "from langchain_core.messages import HumanMessage\n",
    "\n",
    "query = \"What is 3 * 12? Also, what is 11 + 49?\"\n",
    "\n",
    "messages = [HumanMessage(query)]\n",
    "\n",
    "ai_msg = llm_with_tools.invoke(messages)\n",
    "\n",
    "messages.append(ai_msg)\n",
    "\n",
    "ai_msg\n",
    "\n",
    "# AIMessage(content='', additional_kwargs={'tool_calls': [{'id': 'call_ytKH0PWBINRzJ4bn2isISpDd', 'function': {'arguments': '{\"a\": 3, \"b\": 12}', 'name': 'multiply'}, 'type': 'function'}, {'id': 'call_uumEA4kZz0mpJ4s7IXN63SDi', 'function': {'arguments': '{\"a\": 11, \"b\": 49}', 'name': 'add'}, 'type': 'function'}], 'refusal': None}, response_metadata={'token_usage': {'completion_tokens': 50, 'prompt_tokens': 113, 'total_tokens': 163, 'completion_tokens_details': {'audio_tokens': None, 'reasoning_tokens': 0}, 'prompt_tokens_details': {'audio_tokens': None, 'cached_tokens': 0}}, 'model_name': 'gpt-4o-2024-08-06', 'system_fingerprint': 'fp_a20a4ee344', 'finish_reason': 'tool_calls', 'logprobs': None}, id='run-11059832-26ab-48d8-b86c-6c5b3f913797-0', tool_calls=[{'name': 'multiply', 'args': {'a': 3, 'b': 12}, 'id': 'call_ytKH0PWBINRzJ4bn2isISpDd', 'type': 'tool_call'}, {'name': 'add', 'args': {'a': 11, 'b': 49}, 'id': 'call_uumEA4kZz0mpJ4s7IXN63SDi', 'type': 'tool_call'}], usage_metadata={'input_tokens': 113, 'output_tokens': 50, 'total_tokens': 163, 'input_token_details': {'cache_read': 0}, 'output_token_details': {'reasoning': 0}})"
   ]
  },
  {
   "cell_type": "code",
   "execution_count": null,
   "metadata": {},
   "outputs": [],
   "source": [
    "print(ai_msg.tool_calls[0])\n",
    "# {'name': 'multiply', 'args': {'a': 3, 'b': 12}, 'id': 'call_t2N9I3QMe6r5VTvnq116xzs9', 'type': 'tool_call'}\n",
    "\n",
    "print(ai_msg.tool_calls[0]['args'])\n",
    "# {'a': 3, 'b': 12}"
   ]
  },
  {
   "cell_type": "code",
   "execution_count": null,
   "metadata": {},
   "outputs": [],
   "source": [
    "multiply.invoke(ai_msg.tool_calls[0]['args'])\n",
    "# 36"
   ]
  },
  {
   "cell_type": "code",
   "execution_count": 19,
   "metadata": {},
   "outputs": [],
   "source": [
    "selected_tool_dic = {\n",
    "    \"add\": add, \n",
    "    \"multiply\": multiply\n",
    "}"
   ]
  },
  {
   "cell_type": "code",
   "execution_count": null,
   "metadata": {},
   "outputs": [],
   "source": [
    "ai_msg.tool_calls[0]['name']\n",
    "# 'multiply'"
   ]
  },
  {
   "cell_type": "code",
   "execution_count": null,
   "metadata": {},
   "outputs": [],
   "source": [
    "(selected_tool_dic[ai_msg.tool_calls[0]['name']]).invoke(ai_msg.tool_calls[0]['args'])\n",
    "# 36"
   ]
  },
  {
   "cell_type": "code",
   "execution_count": null,
   "metadata": {},
   "outputs": [],
   "source": [
    "from langchain_core.messages import ToolMessage\n",
    "\n",
    "for tool_call in ai_msg.tool_calls:\n",
    "    tool_name = tool_call[\"name\"].lower()\n",
    "    \n",
    "    print(f\"tool name: {tool_name}\")\n",
    "    print(f\"{tool_call['args']}\")\n",
    "    \n",
    "    selected_tool = selected_tool_dic[tool_name]\n",
    "    \n",
    "    tool_output = selected_tool.invoke(tool_call[\"args\"])\n",
    "    \n",
    "    print(tool_output)\n",
    "    \n",
    "    messages.append(ToolMessage(tool_output, tool_call_id=tool_call[\"id\"]))\n",
    "\n",
    "messages\n",
    "\n",
    "# tool name: multiply\n",
    "# {'a': 3, 'b': 12}\n",
    "# 36\n",
    "# tool name: add\n",
    "# {'a': 11, 'b': 49}\n",
    "# 60\n",
    "\n",
    "# [HumanMessage(content='What is 3 * 12? Also, what is 11 + 49?', additional_kwargs={}, response_metadata={}),\n",
    "#  AIMessage(content='', additional_kwargs={'tool_calls': [{'id': 'call_ytKH0PWBINRzJ4bn2isISpDd', 'function': {'arguments': '{\"a\": 3, \"b\": 12}', 'name': 'multiply'}, 'type': 'function'}, {'id': 'call_uumEA4kZz0mpJ4s7IXN63SDi', 'function': {'arguments': '{\"a\": 11, \"b\": 49}', 'name': 'add'}, 'type': 'function'}], 'refusal': None}, response_metadata={'token_usage': {'completion_tokens': 50, 'prompt_tokens': 113, 'total_tokens': 163, 'completion_tokens_details': {'audio_tokens': None, 'reasoning_tokens': 0}, 'prompt_tokens_details': {'audio_tokens': None, 'cached_tokens': 0}}, 'model_name': 'gpt-4o-2024-08-06', 'system_fingerprint': 'fp_a20a4ee344', 'finish_reason': 'tool_calls', 'logprobs': None}, id='run-11059832-26ab-48d8-b86c-6c5b3f913797-0', tool_calls=[{'name': 'multiply', 'args': {'a': 3, 'b': 12}, 'id': 'call_ytKH0PWBINRzJ4bn2isISpDd', 'type': 'tool_call'}, {'name': 'add', 'args': {'a': 11, 'b': 49}, 'id': 'call_uumEA4kZz0mpJ4s7IXN63SDi', 'type': 'tool_call'}], usage_metadata={'input_tokens': 113, 'output_tokens': 50, 'total_tokens': 163, 'input_token_details': {'cache_read': 0}, 'output_token_details': {'reasoning': 0}}),\n",
    "#  ToolMessage(content='36', tool_call_id='call_ytKH0PWBINRzJ4bn2isISpDd'),\n",
    "#  ToolMessage(content='60', tool_call_id='call_uumEA4kZz0mpJ4s7IXN63SDi')]"
   ]
  },
  {
   "cell_type": "code",
   "execution_count": 6,
   "metadata": {},
   "outputs": [],
   "source": [
    "from pydantic import BaseModel\n",
    "\n",
    "class Step(BaseModel):\n",
    "    explanation: str\n",
    "    output: str\n",
    "\n",
    "class MathResponse(BaseModel):\n",
    "    steps: list[Step]\n",
    "    final_answer: str"
   ]
  },
  {
   "cell_type": "code",
   "execution_count": 7,
   "metadata": {},
   "outputs": [],
   "source": [
    "\n",
    "tools = [MathResponse]\n",
    "llm_math = llm.bind_tools(tools, strict=False)\n",
    "# Importante: strict=False"
   ]
  },
  {
   "cell_type": "code",
   "execution_count": null,
   "metadata": {},
   "outputs": [],
   "source": [
    "query = \"solve 8x + 31 = 2\"\n",
    "ai_msg = llm_math.invoke(query)\n",
    "ai_msg.tool_calls\n",
    "\n",
    "# [{'name': 'MathResponse',\n",
    "#   'args': {'steps': [{'explanation': 'Subtract 31 from both sides to isolate the term with x.',\n",
    "#      'output': '8x = 2 - 31'},\n",
    "#     {'explanation': 'Simplify the right side of the equation.',\n",
    "#      'output': '8x = -29'},\n",
    "#     {'explanation': 'Divide both sides by 8 to solve for x.',\n",
    "#      'output': 'x = -29/8'}],\n",
    "#    'final_answer': 'x = -29/8'},\n",
    "#   'id': 'call_MbpoV1CHDcWG2A8o94BtDbOX',\n",
    "#   'type': 'tool_call'}]"
   ]
  },
  {
   "cell_type": "code",
   "execution_count": null,
   "metadata": {},
   "outputs": [],
   "source": [
    "query = \"Solve 5x2 – 45x = 0 (lang=en)\"\n",
    "ai_msg = llm_math.invoke(query)\n",
    "ai_msg.tool_calls\n",
    "\n",
    "# [{'name': 'MathResponse',\n",
    "#   'args': {'steps': [{'explanation': 'The given equation is 5x^2 - 45x = 0. First, factor out the greatest common factor, which is 5x.',\n",
    "#      'output': '5x(x - 9) = 0'},\n",
    "#     {'explanation': 'Set each factor equal to zero: 5x = 0 and x - 9 = 0.',\n",
    "#      'output': '5x = 0 or x - 9 = 0'},\n",
    "#     {'explanation': 'Solve each equation for x. For 5x = 0, divide both sides by 5.',\n",
    "#      'output': 'x = 0'},\n",
    "#     {'explanation': 'For x - 9 = 0, add 9 to both sides.', 'output': 'x = 9'}],\n",
    "#    'final_answer': 'x = 0 or x = 9'},\n",
    "#   'id': 'call_e2gm3robP3iqB1iBFcMPArgX',\n",
    "#   'type': 'tool_call'}]"
   ]
  },
  {
   "cell_type": "code",
   "execution_count": null,
   "metadata": {},
   "outputs": [],
   "source": [
    "query = \"Resolva 2x^2 + 7x + 5 = 0 (lang=pt_BR)\"\n",
    "ai_msg = llm_math.invoke(query)\n",
    "ai_msg.tool_calls\n",
    "\n",
    "# [{'name': 'MathResponse',\n",
    "#   'args': {'steps': [{'explanation': 'Identificamos os coeficientes da equação quadrática: a = 2, b = 7, c = 5.',\n",
    "#      'output': 'a = 2, b = 7, c = 5'},\n",
    "#     {'explanation': 'Calculamos o discriminante usando a fórmula Δ = b² - 4ac.',\n",
    "#      'output': 'Δ = 7² - 4*2*5 = 49 - 40 = 9'},\n",
    "#     {'explanation': 'Como o discriminante é positivo, a equação possui duas raízes reais distintas. Calculamos as raízes usando a fórmula de Bhaskara: x = (-b ± √Δ) / (2a).',\n",
    "#      'output': 'x₁ = (-7 + √9) / 4 = (-7 + 3) / 4 = -1, x₂ = (-7 - √9) / 4 = (-7 - 3) / 4 = -2.5'}],\n",
    "#    'final_answer': 'As soluções da equação são x₁ = -1 e x₂ = -2.5.'},\n",
    "#   'id': 'call_UM41paMYZONt8wrYj9NOfheI',\n",
    "#   'type': 'tool_call'}]"
   ]
  },
  {
   "cell_type": "code",
   "execution_count": null,
   "metadata": {},
   "outputs": [],
   "source": [
    "query = \"Solve 2x^2 + 7x + 5 = 0 (lang=en)\"\n",
    "ai_msg = llm_math.invoke(query)\n",
    "ai_msg.tool_calls\n",
    "\n",
    "# [{'name': 'MathResponse',\n",
    "#   'args': {'steps': [{'explanation': 'Identify the coefficients in the quadratic equation ax^2 + bx + c = 0. Here, a = 2, b = 7, c = 5.',\n",
    "#      'output': 'a = 2, b = 7, c = 5'},\n",
    "#     {'explanation': 'Use the quadratic formula x = (-b ± √(b²-4ac)) / 2a to find the roots of the equation.',\n",
    "#      'output': 'x = (-7 ± √(7²-4*2*5)) / (2*2)'},\n",
    "#     {'explanation': 'Calculate the discriminant b²-4ac.',\n",
    "#      'output': '7²-4*2*5 = 49-40 = 9'},\n",
    "#     {'explanation': 'Since the discriminant is positive, there are two real and distinct roots. Calculate the square root of the discriminant.',\n",
    "#      'output': '√9 = 3'},\n",
    "#     {'explanation': 'Substitute the values into the quadratic formula to find the two roots.',\n",
    "#      'output': 'x = (-7 + 3) / 4 and x = (-7 - 3) / 4'},\n",
    "#     {'explanation': 'Calculate the first root.',\n",
    "#      'output': 'x = (-7 + 3) / 4 = -4 / 4 = -1'},\n",
    "#     {'explanation': 'Calculate the second root.',\n",
    "#      'output': 'x = (-7 - 3) / 4 = -10 / 4 = -2.5'}],\n",
    "#    'final_answer': 'x = -1 and x = -2.5'},\n",
    "#   'id': 'call_jcN1WuXhVCylNWoXV75mpzrf',\n",
    "#   'type': 'tool_call'}]"
   ]
  },
  {
   "cell_type": "code",
   "execution_count": null,
   "metadata": {},
   "outputs": [],
   "source": [
    "for istep, step in enumerate(ai_msg.tool_calls[0]['args']['steps']):\n",
    "    print(f\"step {istep+1}: {step['explanation']}\")\n",
    "    \n",
    "print(f\"final answer: {ai_msg.tool_calls[0]['args']['final_answer']}\")\n",
    "\n",
    "# step 1: Identify the coefficients in the quadratic equation ax^2 + bx + c = 0. Here, a = 2, b = 7, c = 5.\n",
    "# step 2: Use the quadratic formula x = (-b ± √(b²-4ac)) / 2a to find the roots of the equation.\n",
    "# step 3: Calculate the discriminant b²-4ac.\n",
    "# step 4: Since the discriminant is positive, there are two real and distinct roots. Calculate the square root of the discriminant.\n",
    "# step 5: Substitute the values into the quadratic formula to find the two roots.\n",
    "# step 6: Calculate the first root.\n",
    "# step 7: Calculate the second root.\n",
    "# final answer: x = -1 and x = -2.5"
   ]
  }
 ],
 "metadata": {
  "kernelspec": {
   "display_name": "Python 3",
   "language": "python",
   "name": "python3"
  },
  "language_info": {
   "codemirror_mode": {
    "name": "ipython",
    "version": 3
   },
   "file_extension": ".py",
   "mimetype": "text/x-python",
   "name": "python",
   "nbconvert_exporter": "python",
   "pygments_lexer": "ipython3",
   "version": "3.12.5"
  }
 },
 "nbformat": 4,
 "nbformat_minor": 2
}
