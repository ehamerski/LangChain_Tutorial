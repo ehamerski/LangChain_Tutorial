{
 "cells": [
  {
   "cell_type": "code",
   "execution_count": 1,
   "metadata": {},
   "outputs": [],
   "source": [
    "from langchain_openai import OpenAI\n",
    "\n",
    "llm = OpenAI(temperature=0, verbose=True)"
   ]
  },
  {
   "cell_type": "code",
   "execution_count": null,
   "metadata": {},
   "outputs": [],
   "source": [
    "llm.invoke(\"Hi! What is your name?\")\n",
    "\n",
    "# '\\n\\nI am an AI digital assistant and do not have a name. You can call me OpenAI. What can I assist you with?'"
   ]
  },
  {
   "cell_type": "code",
   "execution_count": 13,
   "metadata": {},
   "outputs": [],
   "source": [
    "# Install sqlite3\n",
    "# Create the folder notebooks\n",
    "\n",
    "from langchain_community.utilities import SQLDatabase\n",
    "\n",
    "db = SQLDatabase.from_uri(\"sqlite:///notebooks/Chinook.db\")\n",
    "\n",
    "# cd notebooks\n",
    "# sqlite3 Chinook.db\n",
    "# SELECT name FROM sqlite_master WHERE type='table';"
   ]
  },
  {
   "cell_type": "code",
   "execution_count": 14,
   "metadata": {},
   "outputs": [],
   "source": [
    "# Chinook.db comes from here: https://github.com/lerocha/chinook-database\n",
    "# \n",
    "# Step 1: Create the database.\n",
    "# sqlite3 Chinook.db\n",
    "# \n",
    "# Step 2: Create the tables for the database.\n",
    "#\n",
    "# Download the database definition and content for sqlite from \n",
    "# - https://github.com/lerocha/chinook-database/blob/master/ChinookDatabase/DataSources/Chinook_Sqlite.sql\n",
    "# \n",
    "# Run:\n",
    "# sqlite3 -init Chinook_Sqlite.sql Chinook.db\n",
    "# \n",
    "# Done: .quit"
   ]
  },
  {
   "cell_type": "code",
   "execution_count": null,
   "metadata": {},
   "outputs": [],
   "source": [
    "print(db.get_table_info())\n",
    "# CREATE TABLE \"Album\" (\n",
    "# \t\"AlbumId\" INTEGER NOT NULL, \n",
    "# \t\"Title\" NVARCHAR(160) NOT NULL, \n",
    "# \t\"ArtistId\" INTEGER NOT NULL, \n",
    "# \tPRIMARY KEY (\"AlbumId\"), \n",
    "# \tFOREIGN KEY(\"ArtistId\") REFERENCES \"Artist\" (\"ArtistId\")\n",
    "# )\n",
    "# ..."
   ]
  },
  {
   "cell_type": "code",
   "execution_count": 16,
   "metadata": {},
   "outputs": [],
   "source": [
    "from langchain_experimental.sql import SQLDatabaseChain\n",
    "\n",
    "db_chain = SQLDatabaseChain.from_llm(llm, db, verbose=True)"
   ]
  },
  {
   "cell_type": "code",
   "execution_count": null,
   "metadata": {},
   "outputs": [],
   "source": [
    "ai_msg = db_chain.invoke(\"How many tables is there in the database?\")\n",
    "\n",
    "# > Entering new SQLDatabaseChain chain...\n",
    "# How many tables is there in the database?\n",
    "# SQLQuery:SELECT COUNT(*) FROM sqlite_master WHERE type='table'\n",
    "# SQLResult: [(0,)]\n",
    "# Answer:0\n",
    "# > Finished chain.\n",
    "\n",
    "# > Entering new SQLDatabaseChain chain...\n",
    "# How many tables is there in the database?\n",
    "# SQLQuery:SELECT COUNT(*) FROM sqlite_master WHERE type='table'\n",
    "# SQLResult: [(11,)]\n",
    "# Answer:There are 11 tables in the database.\n",
    "# > Finished chain."
   ]
  },
  {
   "cell_type": "code",
   "execution_count": null,
   "metadata": {},
   "outputs": [],
   "source": [
    "ai_msg\n",
    "# {'query': 'How many tables is there in the database?', 'result': '0'}\n",
    "# {'query': 'How many tables is there in the database?', 'result': 'There are 11 tables in the database.'}"
   ]
  },
  {
   "cell_type": "code",
   "execution_count": null,
   "metadata": {},
   "outputs": [],
   "source": [
    "ai_msg['result']\n",
    "# '0'\n",
    "# 'There are 11 tables in the database.'"
   ]
  },
  {
   "cell_type": "code",
   "execution_count": null,
   "metadata": {},
   "outputs": [],
   "source": [
    "ai_msg = db_chain.invoke(\"How many employees are there?\")\n",
    "\n",
    "# > Entering new SQLDatabaseChain chain...\n",
    "# How many employees are there?\n",
    "# SQLQuery:SELECT COUNT(*) FROM \"employees\"\n",
    "# ...\n",
    "# OperationalError: (sqlite3.OperationalError) no such table: employees\n",
    "# [SQL: SELECT COUNT(*) FROM \"employees\"]\n",
    "\n",
    "# > Entering new SQLDatabaseChain chain...\n",
    "# How many employees are there?\n",
    "# SQLQuery:SELECT COUNT(*) FROM Employee\n",
    "# SQLResult: [(8,)]\n",
    "# Answer:There are 8 employees.\n",
    "# > Finished chain."
   ]
  },
  {
   "cell_type": "code",
   "execution_count": 21,
   "metadata": {},
   "outputs": [],
   "source": [
    "# Use Query Checker\n",
    "# Sometimes the Language Model generates invalid SQL with small mistakes that can be self-corrected using the same technique used by\n",
    "# the SQL Database Agent to try and fix the SQL using the LLM. You can simply specify this option when creating the DB chain.\n",
    "\n",
    "db_chain = SQLDatabaseChain.from_llm(llm, db, verbose=True, use_query_checker=True)"
   ]
  },
  {
   "cell_type": "code",
   "execution_count": null,
   "metadata": {},
   "outputs": [],
   "source": [
    "ai_msg = db_chain.invoke(\"How many albums by Aerosmith?\")\n",
    "# > Entering new SQLDatabaseChain chain...\n",
    "# How many albums by Aerosmith?\n",
    "# SQLQuery:SELECT COUNT(*) FROM albums WHERE artist_id = (SELECT id FROM artists WHERE name = \"Aerosmith\")\n",
    "# ...\n",
    "# OperationalError: (sqlite3.OperationalError) no such table: albums\n",
    "# [SQL: SELECT COUNT(*) FROM albums WHERE artist_id = (SELECT id FROM artists WHERE name = \"Aerosmith\")]\n",
    "\n",
    "# > Entering new SQLDatabaseChain chain...\n",
    "# How many albums by Aerosmith?\n",
    "# SQLQuery:SELECT COUNT(*) FROM Album WHERE ArtistId = (SELECT ArtistId FROM Artist WHERE Name = \"Aerosmith\")\n",
    "# SQLResult: [(1,)]\n",
    "# Answer:1\n",
    "# > Finished chain."
   ]
  },
  {
   "cell_type": "code",
   "execution_count": null,
   "metadata": {},
   "outputs": [],
   "source": [
    "print(ai_msg)\n",
    "# {'query': 'How many albums by Aerosmith?', 'result': '1'}\n",
    "\n",
    "print(ai_msg['result'])\n",
    "# 1"
   ]
  },
  {
   "cell_type": "code",
   "execution_count": null,
   "metadata": {},
   "outputs": [],
   "source": [
    "ai_msg = db_chain.invoke(\"List the name of all the tables in the database\")\n",
    "\n",
    "# > Entering new SQLDatabaseChain chain...\n",
    "# List the name of all the tables in the database\n",
    "# SQLQuery:SELECT name FROM sqlite_master WHERE type='table'\n",
    "# SQLResult: [('Album',), ('Artist',), ('Customer',), ('Employee',), ('Genre',), ('Invoice',), ('InvoiceLine',), ('MediaType',), ('Playlist',), ('PlaylistTrack',), ('Track',)]\n",
    "# Answer:Album, Artist, Customer, Employee, Genre, Invoice, InvoiceLine, MediaType, Playlist, PlaylistTrack, Track\n",
    "# > Finished chain."
   ]
  },
  {
   "cell_type": "code",
   "execution_count": null,
   "metadata": {},
   "outputs": [],
   "source": [
    "ai_msg = db_chain.invoke(\"List the column names of MediaType table\")\n",
    "\n",
    "# > Entering new SQLDatabaseChain chain...\n",
    "# List the column names of MediaType table\n",
    "# SQLQuery:SELECT \"MediaTypeId\", \"Name\" FROM \"MediaType\" LIMIT 5\n",
    "# SQLResult: [(1, 'MPEG audio file'), (2, 'Protected AAC audio file'), (3, 'Protected MPEG-4 video file'), (4, 'Purchased AAC audio file'), (5, 'AAC audio file')]\n",
    "# Answer:MediaTypeId, Name\n",
    "# > Finished chain."
   ]
  },
  {
   "cell_type": "code",
   "execution_count": null,
   "metadata": {},
   "outputs": [],
   "source": [
    "ai_msg = db_chain.invoke(\"How many unique names are there in Name column of the MediaType table?\")\n",
    "\n",
    "# > Entering new SQLDatabaseChain chain...\n",
    "# How many unique names are there in Name column of the MediaType table?\n",
    "# SQLQuery:SELECT COUNT(DISTINCT \"Name\") FROM \"MediaType\"\n",
    "# SQLResult: [(5,)]\n",
    "# Answer:There are 5 unique names in the Name column of the MediaType table.\n",
    "# > Finished chain.\n"
   ]
  },
  {
   "cell_type": "code",
   "execution_count": null,
   "metadata": {},
   "outputs": [],
   "source": [
    "ai_msg = db_chain.invoke(\"List all the unique media types of the MediaType table\")\n",
    "\n",
    "# > Entering new SQLDatabaseChain chain...\n",
    "# List all the unique media types of the MediaType table\n",
    "# SQLQuery:SELECT DISTINCT \"Name\" FROM \"MediaType\"\n",
    "# SQLResult: [('MPEG audio file',), ('Protected AAC audio file',), ('Protected MPEG-4 video file',), ('Purchased AAC audio file',), ('AAC audio file',)]\n",
    "# Answer:MPEG audio file, Protected AAC audio file, Protected MPEG-4 video file, Purchased AAC audio file, AAC audio file\n",
    "# > Finished chain."
   ]
  },
  {
   "cell_type": "code",
   "execution_count": null,
   "metadata": {},
   "outputs": [],
   "source": [
    "ai_msg = db_chain.invoke(\"List the structure of the table employees\")\n",
    "\n",
    "# > Entering new SQLDatabaseChain chain...\n",
    "# List the structure of the table employees\n",
    "# SQLQuery:SELECT * FROM Employee LIMIT 5\n",
    "# SQLResult: [(1, 'Adams', 'Andrew', 'General Manager', None, '1962-02-18 00:00:00', '2002-08-14 00:00:00', '11120 Jasper Ave NW', 'Edmonton', 'AB', 'Canada', 'T5K 2N1', '+1 (780) 428-9482', '+1 (780) 428-3457', 'andrew@chinookcorp.com'), (2, 'Edwards', 'Nancy', 'Sales Manager', 1, '1958-12-08 00:00:00', '2002-05-01 00:00:00', '825 8 Ave SW', 'Calgary', 'AB', 'Canada', 'T2P 2T3', '+1 (403) 262-3443', '+1 (403) 262-3322', 'nancy@chinookcorp.com'), (3, 'Peacock', 'Jane', 'Sales Support Agent', 2, '1973-08-29 00:00:00', '2002-04-01 00:00:00', '1111 6 Ave SW', 'Calgary', 'AB', 'Canada', 'T2P 5M5', '+1 (403) 262-3443', '+1 (403) 262-6712', 'jane@chinookcorp.com'), (4, 'Park', 'Margaret', 'Sales Support Agent', 2, '1947-09-19 00:00:00', '2003-05-03 00:00:00', '683 10 Street SW', 'Calgary', 'AB', 'Canada', 'T2P 5G3', '+1 (403) 263-4423', '+1 (403) 263-4289', 'margaret@chinookcorp.com'), (5, 'Johnson', 'Steve', 'Sales Support Agent', 2, '1965-03-03 00:00:00', '2003-10-17 00:00:00', '7727B 41 Ave', 'Calgary', 'AB', 'Canada', 'T3B 1Y7', '1 (780) 836-9987', '1 (780) 836-9543', 'steve@chinookcorp.com')]\n",
    "# Answer:The table employees has the following structure: EmployeeId, LastName, FirstName, Title, ReportsTo, BirthDate, HireDate, Address, City, State, Country, PostalCode, Phone, Fax, Email.\n",
    "# > Finished chain."
   ]
  },
  {
   "cell_type": "code",
   "execution_count": null,
   "metadata": {},
   "outputs": [],
   "source": [
    "ai_msg = db_chain.invoke(\"List the structure of the table artist\")\n",
    "\n",
    "# > Entering new SQLDatabaseChain chain...\n",
    "# List the structure of the table artist\n",
    "# SQLQuery:SELECT * FROM Artist LIMIT 5\n",
    "# SQLResult: [(1, 'AC/DC'), (2, 'Accept'), (3, 'Aerosmith'), (4, 'Alanis Morissette'), (5, 'Alice In Chains')]\n",
    "# Answer:The table \"Artist\" has two columns: \"ArtistId\" and \"Name\". The \"ArtistId\" column is an integer and is the primary key for the table. The \"Name\" column is a string and contains the name of the artist.\n",
    "# > Finished chain.\n"
   ]
  },
  {
   "cell_type": "code",
   "execution_count": null,
   "metadata": {},
   "outputs": [],
   "source": [
    "ai_msg = db_chain.invoke(\"insert a new artist named 'Raul Seixas'\")\n",
    "\n",
    "# > Entering new SQLDatabaseChain chain...\n",
    "# insert a new artist named 'Raul Seixas'\n",
    "# SQLQuery:INSERT INTO \"Artist\" (\"Name\") VALUES ('Raul Seixas')\n",
    "# SQLResult: \n",
    "# Answer:No results, but the new artist 'Raul Seixas' has been successfully inserted into the Artist table.\n",
    "# > Finished chain."
   ]
  },
  {
   "cell_type": "code",
   "execution_count": null,
   "metadata": {},
   "outputs": [],
   "source": [
    "ai_msg = db_chain.invoke(\"for the artist 'Raul Seixas', insert the following albums: 'Raul Seixas', 'Novo Aeon', 'Gita'\")\n",
    "\n",
    "# > Entering new SQLDatabaseChain chain...\n",
    "# for the artist 'Raul Seixas', insert the following albums: 'Raul Seixas', 'Novo Aeon', 'Gita'\n",
    "# SQLQuery:INSERT INTO \"Album\" (\"Title\", \"ArtistId\") VALUES ('Raul Seixas', (SELECT \"ArtistId\" FROM \"Artist\" WHERE \"Name\" = 'Raul Seixas')), ('Novo Aeon', (SELECT \"ArtistId\" FROM \"Artist\" WHERE \"Name\" = 'Raul Seixas')), ('Gita', (SELECT \"ArtistId\" FROM \"Artist\" WHERE \"Name\" = 'Raul Seixas'))\n",
    "# SQLResult: \n",
    "# Answer:No results, but the albums 'Raul Seixas', 'Novo Aeon', and 'Gita' have been successfully inserted into the Album table for the artist 'Raul Seixas'.\n",
    "# > Finished chain."
   ]
  },
  {
   "cell_type": "code",
   "execution_count": null,
   "metadata": {},
   "outputs": [],
   "source": [
    "ai_msg = db_chain.invoke(\"add a new column 'year' with default value '1970' to the table 'album'\")\n",
    "\n",
    "# > Entering new SQLDatabaseChain chain...\n",
    "# add a new column 'year' with default value '1970' to the table 'album'\n",
    "# SQLQuery:ALTER TABLE \"Album\" ADD COLUMN \"year\" INTEGER DEFAULT 1970\n",
    "# SQLResult: \n",
    "# Answer:The new column 'year' has been successfully added to the 'Album' table with a default value of '1970'.\n",
    "# > Finished chain."
   ]
  }
 ],
 "metadata": {
  "kernelspec": {
   "display_name": "Python 3",
   "language": "python",
   "name": "python3"
  },
  "language_info": {
   "codemirror_mode": {
    "name": "ipython",
    "version": 3
   },
   "file_extension": ".py",
   "mimetype": "text/x-python",
   "name": "python",
   "nbconvert_exporter": "python",
   "pygments_lexer": "ipython3",
   "version": "3.12.5"
  }
 },
 "nbformat": 4,
 "nbformat_minor": 2
}
