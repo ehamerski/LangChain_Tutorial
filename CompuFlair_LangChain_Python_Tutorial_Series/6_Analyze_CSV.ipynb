{
 "cells": [
  {
   "cell_type": "code",
   "execution_count": null,
   "metadata": {},
   "outputs": [],
   "source": [
    "# Go to https://ncbi.nlm.nih.gov/gds\n",
    "# Select 'GEO DataSets'\n",
    "# Search for 'Heart Desease' or for \"MBNL1 regulates programmed postnatal switching between regenerative and differentiated cardiac states\":\n",
    "# > https://ncbi.nlm.nih.gov/geo/query/acc.cgi?acc=GSE246743\n",
    "# Go to the end of the document and inspects the bases used in this study.\n",
    "# Download this CSV to the ./documents folder: \n",
    "# > GSE246743_raw_counts.csv.gz\t    703.6 Kb    (ftp)(http) CSV\n",
    "# > https://ncbi.nlm.nih.gov/geo/download/?acc=GSE246743&format=file&file=GSE246743%5Fraw%5Fcounts%2Ecsv%2Egz\n",
    "# Gunzip the file: gunzip GSE246743_raw_counts.csv.gz"
   ]
  },
  {
   "cell_type": "code",
   "execution_count": null,
   "metadata": {},
   "outputs": [],
   "source": [
    "import os\n",
    "from dotenv import load_dotenv\n",
    "load_dotenv(\".env\")"
   ]
  },
  {
   "cell_type": "code",
   "execution_count": 2,
   "metadata": {},
   "outputs": [],
   "source": [
    "from langchain_openai import ChatOpenAI\n",
    "\n",
    "llm = ChatOpenAI(model=\"gpt-3.5-turbo-0125\", temperature=0)"
   ]
  },
  {
   "cell_type": "code",
   "execution_count": 5,
   "metadata": {},
   "outputs": [],
   "source": [
    "# !pip install pandas"
   ]
  },
  {
   "cell_type": "code",
   "execution_count": null,
   "metadata": {},
   "outputs": [],
   "source": [
    "import pandas as pd\n",
    "\n",
    "df = pd.read_csv(\"./documents/GSE246743_raw_counts.csv\", index_col=0)\n",
    "df = df.head(10)\n",
    "df.head()"
   ]
  },
  {
   "cell_type": "code",
   "execution_count": null,
   "metadata": {},
   "outputs": [],
   "source": [
    "df = df.T\n",
    "df.head()"
   ]
  },
  {
   "cell_type": "code",
   "execution_count": 5,
   "metadata": {},
   "outputs": [],
   "source": [
    "# !pip install langchain-experimental"
   ]
  },
  {
   "cell_type": "code",
   "execution_count": null,
   "metadata": {},
   "outputs": [],
   "source": [
    "import pandas as pd\n",
    "from langchain_experimental.tools import PythonAstREPLTool\n",
    "\n",
    "tool = PythonAstREPLTool(locals={\"df\": df})\n",
    "tool.invoke(\"df['ENSMUSG00000051951'].mean()\")\n",
    "\n",
    "# 0.11764705882352941"
   ]
  },
  {
   "cell_type": "code",
   "execution_count": null,
   "metadata": {},
   "outputs": [],
   "source": [
    "tool.name"
   ]
  },
  {
   "cell_type": "code",
   "execution_count": null,
   "metadata": {},
   "outputs": [],
   "source": [
    "llm_with_tools = llm.bind_tools([tool], tool_choice=tool.name)\n",
    "llm_with_tools.invoke(\n",
    "    \"I have a dataframe 'df' and want to know the standard deviation of 'ENSMUSG00000051951' column\"\n",
    ")\n",
    "\n",
    "# AIMessage(content='', additional_kwargs={'tool_calls': [{'id': 'call_eHA4gd8l4NnJCsifoKHz27JE', 'function': {'arguments': '{\"query\":\"df[\\'ENSMUSG00000051951\\'].std()\"}', 'name': 'python_repl_ast'}, 'type': 'function'}], 'refusal': None}, response_metadata={'token_usage': {'completion_tokens': 17, 'prompt_tokens': 127, 'total_tokens': 144, 'completion_tokens_details': {'audio_tokens': None, 'reasoning_tokens': 0}, 'prompt_tokens_details': {'audio_tokens': None, 'cached_tokens': 0}}, 'model_name': 'gpt-3.5-turbo-0125', 'system_fingerprint': None, 'finish_reason': 'stop', 'logprobs': None}, id='run-2b49cab3-6334-404d-a9c1-d609f1cd69cf-0', tool_calls=[{'name': 'python_repl_ast', 'args': {'query': \"df['ENSMUSG00000051951'].std()\"}, 'id': 'call_eHA4gd8l4NnJCsifoKHz27JE', 'type': 'tool_call'}], usage_metadata={'input_tokens': 127, 'output_tokens': 17, 'total_tokens': 144, 'input_token_details': {'cache_read': 0}, 'output_token_details': {'reasoning': 0}})"
   ]
  },
  {
   "cell_type": "code",
   "execution_count": null,
   "metadata": {},
   "outputs": [],
   "source": [
    "from langchain.output_parsers.openai_tools import JsonOutputKeyToolsParser\n",
    "\n",
    "parser = JsonOutputKeyToolsParser(key_name=tool.name, return_single=True)\n",
    "\n",
    "(llm_with_tools | parser).invoke(\n",
    "    \"I have a dataframe 'df' and want to know the standard deviation of 'ENSMUSG00000051951' column\"\n",
    ")\n",
    "\n",
    "# [{'query': \"df['ENSMUSG00000051951'].std()\"}]"
   ]
  },
  {
   "cell_type": "code",
   "execution_count": 10,
   "metadata": {},
   "outputs": [],
   "source": [
    "resp = (llm_with_tools | parser).invoke(\n",
    "    \"I have a dataframe 'df' and want to know the standard deviation of 'ENSMUSG00000051951' column\"\n",
    ")"
   ]
  },
  {
   "cell_type": "code",
   "execution_count": null,
   "metadata": {},
   "outputs": [],
   "source": [
    "resp[0]['query']\n",
    "\n",
    "# \"df['ENSMUSG00000051951'].std()\""
   ]
  },
  {
   "cell_type": "code",
   "execution_count": null,
   "metadata": {},
   "outputs": [],
   "source": [
    "tool.invoke(resp[0]['query'])\n",
    "\n",
    "# 0.3321055820775357"
   ]
  },
  {
   "cell_type": "code",
   "execution_count": 13,
   "metadata": {},
   "outputs": [],
   "source": [
    "# !pip install tabulate"
   ]
  },
  {
   "cell_type": "code",
   "execution_count": null,
   "metadata": {},
   "outputs": [],
   "source": [
    "df.head()"
   ]
  },
  {
   "cell_type": "code",
   "execution_count": 15,
   "metadata": {},
   "outputs": [],
   "source": [
    "system = f\"\"\"\n",
    "You hava access to a pandas dataframe `df`.\n",
    "Here is the output of `df.head().to_markdown()`:\n",
    "\n",
    "```\n",
    "{df.head().to_markdown()}\n",
    "```\n",
    "\n",
    "Given a user question, write the Python code to answer it.\n",
    "Return ONLY the valid Python code and nothing else.\n",
    "DONT'T assume you have access to any libraries other than built-in Python ones and pandas.\n",
    "\"\"\"\n",
    "\n",
    "from langchain_core.prompts import ChatPromptTemplate\n",
    "prompt = ChatPromptTemplate.from_messages([(\"system\", system), (\"human\", \"{question}\")])"
   ]
  },
  {
   "cell_type": "code",
   "execution_count": null,
   "metadata": {},
   "outputs": [],
   "source": [
    "prompt\n",
    "\n",
    "# ChatPromptTemplate(input_variables=['question'], input_types={}, partial_variables={}, messages=[SystemMessagePromptTemplate(prompt=PromptTemplate(input_variables=[], input_types={}, partial_variables={}, template=\"\\nYou hava access to a pandas dataframe `df`.\\nHere is the output of `df.head().to_markdown()`:\\n\\n```\\n|        |   ENSMUSG00000102693 |   ENSMUSG00000064842 |   ENSMUSG00000051951 |   ENSMUSG00000102851 |   ENSMUSG00000103377 |   ENSMUSG00000104017 |   ENSMUSG00000103025 |   ENSMUSG00000089699 |   ENSMUSG00000103201 |   ENSMUSG00000103147 |\\n|:-------|---------------------:|---------------------:|---------------------:|---------------------:|---------------------:|---------------------:|---------------------:|---------------------:|---------------------:|---------------------:|\\n| KO_0.1 |                    0 |                    0 |                    0 |                    0 |                    0 |                    0 |                    0 |                    0 |                    0 |                    0 |\\n| KO_0.2 |                    0 |                    0 |                    0 |                    0 |                    0 |                    0 |                    0 |                    0 |                    0 |                    0 |\\n| KO_0.3 |                    0 |                    0 |                    1 |                    0 |                    0 |                    0 |                    0 |                    0 |                    0 |                    0 |\\n| KO_4.1 |                    0 |                    0 |                    0 |                    0 |                    0 |                    0 |                    0 |                    0 |                    0 |                    0 |\\n| KO_4.2 |                    0 |                    0 |                    0 |                    0 |                    0 |                    0 |                    0 |                    0 |                    0 |                    0 |\\n```\\n\\nGiven a user question, write the Python code to answer it.\\nReturn ONLY the valid Python code and nothing else.\\nDONT'T assume you have access to any libraries other than built-in Python ones and pandas.\\n\"), additional_kwargs={}), HumanMessagePromptTemplate(prompt=PromptTemplate(input_variables=['question'], input_types={}, partial_variables={}, template='{question}'), additional_kwargs={})])"
   ]
  },
  {
   "cell_type": "code",
   "execution_count": null,
   "metadata": {},
   "outputs": [],
   "source": [
    "code_chain = prompt | llm_with_tools | parser\n",
    "\n",
    "code_chain.invoke({\"question\": \"What's the standard deviation of ENSMUSG00000051951?\"})\n",
    "\n",
    "# [{'query': \"df['ENSMUSG00000051951'].std()\"}]"
   ]
  },
  {
   "cell_type": "code",
   "execution_count": 18,
   "metadata": {},
   "outputs": [],
   "source": [
    "def analyze_df(question):\n",
    "    chain = (prompt | llm_with_tools | parser)\n",
    "    resp = chain.invoke({\"question\": question})\n",
    "    print(resp[0]['query'])\n",
    "    return tool.invoke(resp[0]['query'])"
   ]
  },
  {
   "cell_type": "code",
   "execution_count": null,
   "metadata": {},
   "outputs": [],
   "source": [
    "analyze_df(\"What's the standard deviation of ENSMUSG00000051951?\")\n",
    "\n",
    "# df['ENSMUSG00000051951'].std()\n",
    "# 0.3321055820775357"
   ]
  },
  {
   "cell_type": "code",
   "execution_count": null,
   "metadata": {},
   "outputs": [],
   "source": [
    "analyze_df(\"What's the mean of ENSMUSG00000051951?\")\n",
    "\n",
    "# df['ENSMUSG00000051951'].mean()\n",
    "# 0.11764705882352941"
   ]
  },
  {
   "cell_type": "code",
   "execution_count": null,
   "metadata": {},
   "outputs": [],
   "source": [
    "analyze_df(\"What are the columns of the df?\")\n",
    "\n",
    "# f.columns\n",
    "# Index(['ENSMUSG00000102693', 'ENSMUSG00000064842', 'ENSMUSG00000051951',\n",
    "#        'ENSMUSG00000102851', 'ENSMUSG00000103377', 'ENSMUSG00000104017',\n",
    "#        'ENSMUSG00000103025', 'ENSMUSG00000089699', 'ENSMUSG00000103201',\n",
    "#        'ENSMUSG00000103147'],\n",
    "#       dtype='object')"
   ]
  },
  {
   "cell_type": "code",
   "execution_count": null,
   "metadata": {},
   "outputs": [],
   "source": [
    "analyze_df(\"Which column has more zeroes?\")\n",
    "\n",
    "# zero_counts = df.eq(0).sum()\n",
    "# zero_counts.idxmax()\n",
    "# 'ENSMUSG00000102693'"
   ]
  },
  {
   "cell_type": "code",
   "execution_count": null,
   "metadata": {},
   "outputs": [],
   "source": [
    "analyze_df(\"Which column has less zeroes?\")\n",
    "\n",
    "# df.eq(0).sum().idxmin()\n",
    "# 'ENSMUSG00000051951'"
   ]
  },
  {
   "cell_type": "code",
   "execution_count": null,
   "metadata": {},
   "outputs": [],
   "source": [
    "analyze_df(\"What is the sum of each column?\")"
   ]
  },
  {
   "cell_type": "code",
   "execution_count": null,
   "metadata": {},
   "outputs": [],
   "source": []
  }
 ],
 "metadata": {
  "kernelspec": {
   "display_name": "Python 3",
   "language": "python",
   "name": "python3"
  },
  "language_info": {
   "codemirror_mode": {
    "name": "ipython",
    "version": 3
   },
   "file_extension": ".py",
   "mimetype": "text/x-python",
   "name": "python",
   "nbconvert_exporter": "python",
   "pygments_lexer": "ipython3",
   "version": "3.12.5"
  }
 },
 "nbformat": 4,
 "nbformat_minor": 2
}
