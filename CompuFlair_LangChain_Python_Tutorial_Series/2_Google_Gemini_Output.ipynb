{
 "cells": [
  {
   "cell_type": "markdown",
   "metadata": {},
   "source": [
    "## LangChain Tutorial - Part 2: Google Gemini Output"
   ]
  },
  {
   "cell_type": "markdown",
   "metadata": {},
   "source": [
    "#### Setting Up Google Gemini API\n",
    "\n",
    "Before starting this tutorial, please follow the steps below to set up your environment:\n",
    "\n",
    "1. **Access the Google AI Platform**:\n",
    "   - Visit [Google AI Platform](https://ai.google.dev/).\n",
    "   - Click on the button labeled `Get API key in Google AI Studio` to obtain your API key.\n",
    "\n",
    "   Alternatively:\n",
    "   - Go to [Google AI Studio](https://aistudio.google.com/app/prompts/new_chat).\n",
    "   - Click on `Get API key` to create a new API key.\n",
    "\n",
    "2. **Create an API Key**:\n",
    "   - Create a new project and generate an API key.\n",
    "   - Add the key to your `.env` file using the following format:\n",
    "     \n",
    "     ```\n",
    "     GOOGLE_API_KEY=<your-secret-key>\n",
    "     ```\n",
    "\n",
    "3. **Load the `.env` File**:\n",
    "   - Make sure to properly load the `.env` file in your environment so the key is accessible to your application."
   ]
  },
  {
   "cell_type": "code",
   "execution_count": 1,
   "metadata": {},
   "outputs": [],
   "source": [
    "# Load the .env file\n",
    "# Load the GOOGLE_API_KEY value\n",
    "# See LangChain Tutorial - Part 1 for more information\n",
    "\n",
    "%load_ext dotenv\n",
    "%dotenv\n",
    "\n",
    "import os\n",
    "GOOGLE_API_KEY = os.getenv('GOOGLE_API_KEY')"
   ]
  },
  {
   "cell_type": "code",
   "execution_count": null,
   "metadata": {},
   "outputs": [],
   "source": [
    "# Install the package langchain_google_genai\n",
    "# Use the following syntax, with --upgrade, to upgrade the version of any package, if a new version is available\n",
    "%pip install --upgrade langchain_google_genai"
   ]
  },
  {
   "cell_type": "code",
   "execution_count": 2,
   "metadata": {},
   "outputs": [],
   "source": [
    "# Import the class GoogleGenerativeAI from the package langchain_google_genai.llms\n",
    "from langchain_google_genai.llms import GoogleGenerativeAI"
   ]
  },
  {
   "cell_type": "code",
   "execution_count": 3,
   "metadata": {},
   "outputs": [],
   "source": [
    "# Create an instance of GoogleGenerativeAI\n",
    "# GoogleGenerativeAI expects an api_key and a model as parameters\n",
    "llm = GoogleGenerativeAI(api_key=GOOGLE_API_KEY, model=\"gemini-pro\")"
   ]
  },
  {
   "cell_type": "code",
   "execution_count": null,
   "metadata": {},
   "outputs": [],
   "source": [
    "# First call to the llm\n",
    "llm.invoke(\"Tell me a joke.\")\n",
    "\n",
    "# Similar expected response:\n",
    "# 'Why did the scarecrow win an award?\\n\\nBecause he was outstanding in his field!'"
   ]
  },
  {
   "cell_type": "code",
   "execution_count": 6,
   "metadata": {},
   "outputs": [],
   "source": [
    "# Creating a professional prompt\n",
    "\n",
    "# Import the class ChatPromptTemplate from langchain_core.prompts\n",
    "from langchain_core.prompts import ChatPromptTemplate"
   ]
  },
  {
   "cell_type": "code",
   "execution_count": 7,
   "metadata": {},
   "outputs": [],
   "source": [
    "# Create an instance of ChatPromptTemplate using the from_messages class method\n",
    "prompt = ChatPromptTemplate.from_messages(\n",
    "    [\n",
    "        (\"system\", \"You are a helpful assistant.\"),\n",
    "        (\"user\", \"I would like to understand {user_input}. Can you tell me more about it?\")\n",
    "    ]\n",
    ")"
   ]
  },
  {
   "cell_type": "code",
   "execution_count": 10,
   "metadata": {},
   "outputs": [],
   "source": [
    "# Import the class StrOutputParser from langchain_core.output_parsers\n",
    "from langchain_core.output_parsers import StrOutputParser"
   ]
  },
  {
   "cell_type": "code",
   "execution_count": 11,
   "metadata": {},
   "outputs": [],
   "source": [
    "# Create an instance of StrOutputParser\n",
    "output_parser = StrOutputParser()"
   ]
  },
  {
   "cell_type": "code",
   "execution_count": 12,
   "metadata": {},
   "outputs": [],
   "source": [
    "# Create a simple chain that:\n",
    "# - takes the prompt and passes it to the chat model to be processed by the llm\n",
    "# - and then takes the response and passes it to be processed by the output parser\n",
    "# - and then returns the response content\n",
    "chain = prompt | llm | output_parser"
   ]
  },
  {
   "cell_type": "code",
   "execution_count": 15,
   "metadata": {},
   "outputs": [],
   "source": [
    "# Invoke the chain\n",
    "ai_msg = chain.invoke({\"user_input\": \"Earth Planet\"})"
   ]
  },
  {
   "cell_type": "code",
   "execution_count": null,
   "metadata": {},
   "outputs": [],
   "source": [
    "# When using OpenAI, the LLM response is an object AIMessage\n",
    "# - Use the syntax `ai_msg.content` to obtain the the content string\n",
    "\n",
    "# When using Google Gemini, the response is always a string\n",
    "# - The `ai_msg` itself is already a string\n",
    "\n",
    "# This can be an issue when interoperating with different APIs through LangChain\n",
    "# We can use LangChain Output Parsers to solve this issue\n",
    "\n",
    "# An output parser will help standardize the output across different LLMs, making it easier to handle responses regardless of the model used\n",
    "\n",
    "ai_msg\n",
    "\n",
    "# Similar expected response:\n",
    "# '**The Earth**\\n\\n**Overview:**\\n\\n* The Earth is the third planet from the Sun in our solar system.\\n* It is the only known planet in the universe that supports life.\\n* It is also known as the \"Blue Planet\" due to its distinctive blue color seen from space.\\n\\n**Physical Characteristics:**\\n\\n* **Diameter:** 12,742 kilometers (7,918 miles)\\n* **Mass:** 5.972 x 10^24 kilograms\\n* **Volume:** 1.083 x 10^12 cubic kilometers\\n* **Density:** 5.51 grams per cubic centimeter\\n* **Surface Area:** 510.1 million square kilometers\\n* **Composition:** The Earth is primarily composed of iron (32.1%), oxygen (30.1%), silicon (15.1%), magnesium (13.9%), sulfur (2.9%), nickel (1.8%), and calcium (1.5%).\\n\\n**Structure:**\\n\\n* **Crust:** The outermost layer, ranging from 5 to 70 kilometers thick.\\n* **Mantle:** The middle layer, extending from 35 to 2,900 kilometers deep.\\n* **Core:** The innermost layer, consisting of an outer liquid core and an inner solid core.\\n\\n**Atmosphere:**\\n\\n* The Earth\\'s atmosphere is a thin layer of gases surrounding the planet.\\n* It is primarily composed of nitrogen (78%), oxygen (21%), and argon (0.93%).\\n* The atmosphere protects the Earth from harmful radiation and regulates its temperature.\\n\\n**Hydrosphere:**\\n\\n* The Earth\\'s hydrosphere includes all the water on the planet, including oceans, lakes, rivers, and glaciers.\\n* Oceans cover approximately 71% of the Earth\\'s surface.\\n* Water is essential for life and plays a crucial role in the Earth\\'s climate.\\n\\n**Biosphere:**\\n\\n* The Earth\\'s biosphere is the region where life exists.\\n* It includes all living organisms, from microscopic bacteria to large whales.\\n* The biosphere is supported by the interaction between the atmosphere, hydrosphere, and lithosphere (land).\\n\\n**Plate Tectonics:**\\n\\n* The Earth\\'s crust is divided into a number of tectonic plates.\\n* These plates move slowly over the mantle, causing earthquakes, volcanic activity, and the formation of mountains.\\n\\n**Climate:**\\n\\n* The Earth\\'s climate is influenced by a variety of factors, including the Sun, the atmosphere, and the oceans.\\n* Climate zones range from the warm tropics to the cold polar regions.\\n* Climate change is currently a major concern due to human activities that are altering the composition of the atmosphere.\\n\\n**History:**\\n\\n* The Earth is estimated to be around 4.54 billion years old.\\n* It formed from the accretion of gas and dust in the solar nebula.\\n* Over time, the Earth evolved from a molten planet to a habitable one, with the development of oceans, an atmosphere, and life.'"
   ]
  }
 ],
 "metadata": {
  "kernelspec": {
   "display_name": "Python 3",
   "language": "python",
   "name": "python3"
  },
  "language_info": {
   "codemirror_mode": {
    "name": "ipython",
    "version": 3
   },
   "file_extension": ".py",
   "mimetype": "text/x-python",
   "name": "python",
   "nbconvert_exporter": "python",
   "pygments_lexer": "ipython3",
   "version": "3.12.5"
  }
 },
 "nbformat": 4,
 "nbformat_minor": 2
}
