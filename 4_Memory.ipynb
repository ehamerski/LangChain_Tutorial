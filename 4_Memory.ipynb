{
 "cells": [
  {
   "cell_type": "code",
   "execution_count": null,
   "metadata": {},
   "outputs": [],
   "source": [
    "# Article selected: Pancreatic Cancer: A Review (https://www.ncbi.nlm.nih.gov/pmc/articles/PMC9363152/)\n",
    "# Download the article to the ./documents folder.\n",
    "# ./documents/nihms-1828057.pdf"
   ]
  },
  {
   "cell_type": "code",
   "execution_count": 1,
   "metadata": {},
   "outputs": [],
   "source": [
    "# pip install langchain_community\n",
    "# pip install pypdf\n",
    "\n",
    "from langchain_community.document_loaders import PyPDFLoader"
   ]
  },
  {
   "cell_type": "code",
   "execution_count": 2,
   "metadata": {},
   "outputs": [],
   "source": [
    "loader = PyPDFLoader(\"./documents/nihms-1828057.pdf\")"
   ]
  },
  {
   "cell_type": "code",
   "execution_count": 3,
   "metadata": {},
   "outputs": [],
   "source": [
    "pages = loader.load_and_split()"
   ]
  },
  {
   "cell_type": "code",
   "execution_count": null,
   "metadata": {},
   "outputs": [],
   "source": [
    "pages[:3]\n",
    "\n",
    "# [Document(metadata={'source': './documents/nihms-1828057.pdf', 'page': 0}, page_content='Pancreatic Cancer: A Review\\nWungki Park, MD ,\\nDepartment of Medicine, Memorial Sloan Kettering Cancer Center, New York, New York\\nDavid M. Rubenstein Center for Pancreatic Cancer Research, New York, New York\\nDepartment of Medicine, Weill Cornell Medical College, New York, New York\\nParker Institute for Cancer Immunotherapy, San Francisco, California\\nAkhil Chawla, MD ,\\nDepartment of Surgery, Northwestern Medicine Regional Medical Group, Northwestern University \\nFeinberg School of Medicine, Chicago, Illinois\\nRobert H. Lurie Comprehensive Cancer Center, Chicago, Illinois\\nEileen M. O’Reilly, MD\\nDepartment of Medicine, Memorial Sloan Kettering Cancer Center, New York, New York\\nDavid M. Rubenstein Center for Pancreatic Cancer Research, New York, New York\\nDepartment of Medicine, Weill Cornell Medical College, New York, New York\\nAbstract\\nIMPORTANCE— Pancreatic ductal adenocarcinoma (PDAC) is a relatively uncommon cancer, \\nwith approximately 60 430 new diagnoses expected in 2021 in the US. The incidence of PDAC \\nis increasing by 0.5% to 1.0% per year, and it is projected to become the second-leading cause of \\ncancer-related mortality by 2030.\\nOBSERVATIONS— Effective screening is not available for PDAC, and most patients \\npresent with locally advanced (30%–35%) or metastatic (50%–55%) disease at diagnosis. A \\nmultidisciplinary management approach is recommended. Localized pancreas cancer includes \\nresectable, borderline resectable (localized and involving major vascular structures), and locally \\nadvanced (unresectable) disease based on the degree of arterial and venous involvement \\nby tumor, typically of the superior mesenteric vessels. For patients with resectable disease \\nat presentation (10%–15%), surgery followed by adjuvant chemotherapy with FOLFIRINOX \\nCorresponding Author:  Eileen M. O’Reilly, MD, Memorial Sloan Kettering Cancer Center, 300 E 66th St, Office 1021, New York, \\nNY 10065 (oreillye@mskcc.org).\\nAuthor Contributions:  Dr O’Reilly had full access to all of the data in the study and takes responsibility for the integrity of the data \\nand the accuracy of the data analysis.\\nConcept and design:  All authors.\\nAcquisition, analysis, or interpretation of data:  All authors.\\nDrafting of the manuscript:  All authors.\\nCritical revision of the manuscript for important intellectual content:  All authors.\\nObtained funding:  Park, O’Reilly.\\nAdministrative, technical, or material support:  Park, O’Reilly.\\nSupervision:  O’Reilly.\\nOther - involved in writing:  Chawla.\\nHHS Public Access\\nAuthor manuscript\\nJAMA . Author manuscript; available in PMC 2022 August 09.\\nPublished in final edited form as:\\nJAMA . 2021 September 07; 326(9): 851–862. doi:10.1001/jama.2021.13027.\\nAuthor Manuscript Author Manuscript Author Manuscript Author Manuscript'),\n",
    "#  Document(metadata={'source': './documents/nihms-1828057.pdf', 'page': 1}, page_content='(fluorouracil, irinotecan, leucovorin, oxaliplatin) represents a standard therapeutic approach with \\nan anticipated median overall survival of 54.4 months, compared with 35 months for single-agent \\ngemcitabine (stratified hazard ratio for death, 0.64 [95% CI, 0.48–0.86]; P = .003). Neoadjuvant \\nsystemic therapy with or without radiation followed by evaluation for surgery is an accepted \\ntreatment approach for resectable and borderline resectable disease. For patients with locally \\nadvanced and unresectable disease due to extensive vascular involvement, systemic therapy \\nfollowed by radiation is an option for definitive locoregional disease control. For patients with \\nadvanced (locally advanced and metastatic) PDAC, multiagent chemotherapy regimens, including \\nFOLFIRINOX, gemcitabine/nab-paclitaxel, and nanoliposomal irinotecan/fluorouracil, all have \\na survival benefit of 2 to 6 months compared with a single-agent gemcitabine. For the 5% to \\n7% of patients with a BRCA  pathogenic germline variant and metastatic PDAC, olaparib, a \\npoly (adenosine diphosphate [ADB]-ribose) polymerase inhibitor, is a maintenance option that \\nimproves progression-free survival following initial platinum-based therapy.\\nCONCLUSIONS AND RELEVANCE— Approximately 60 000 new cases of PDAC are \\ndiagnosed per year, and approximately 50% of patients have advanced disease at diagnosis. The \\nincidence of PDAC is increasing. Currently available cytotoxic therapies for advanced disease \\nare modestly effective. For all patients, multidisciplinary management, comprehensive germline \\ntesting, and integrated supportive care are recommended.\\nApproximately 60 430 new diagnoses of pancreatic cancer are anticipated in the US in \\n2021.1 The incidence is rising at a rate of 0.5% to 1.0% per year, and pancreatic cancer \\nis projected to become the second-leading cause of cancer death by 2030 in the US.1,2 \\nPancreatic ductal adenocarcinoma (PDAC) accounts for the majority (90%)of pancreatic \\nneoplasms, and the other subtypes include acinar carcinoma, pancreaticoblastoma, and \\nneuroendocrine tumors. Most patients with pancreatic cancer present with nonspecific \\nsymptoms at an advanced stage with disease that is not amenable to curative surgery.1 \\nNo effective screening exists. The 5-year survival rate approached 10% for the first time in \\n2020, compared with 5.26% in 2000.1 The survival improvements have been modest and \\nattributed primarily to multiagent cytotoxic therapies.3–5 Recently, comprehensive germline \\nand somatic genomic sequencing became standard of care for small subgroups of patients \\nwith targeted treatment opportunities.6,7 Olaparib, a poly (adenosine diphosphate[ADB]-\\nribose) polymerase inhibitor, can prolong cancer control in patients with a BRCA1/2 \\npathogenic germline variant.8,9 This review summarizes current evidence regarding \\npathobiology, diagnosis, and management of PDAC.\\nMethods\\nA PubMed search was performed for English-language articles describing randomized \\nclinical trials, meta-analyses, and systematic reviews of pancreatic cancer published between \\nJanuary 1, 2010, and July 5, 2021. We identified 43 randomized clinical trials, 85 meta-\\nanalyses, and 171 systematic reviews. The authors selected articles for inclusion, prioritizing \\nrecent randomized clinical trials of higher quality based on rigor of study design, adequate \\nsample size, and long-term follow-up. A total of 24 randomized clinical trials, 4 meta-\\nanalyses, 3 systematic reviews, 5 guideline recommendations, and 37 observational and \\ncohort studies, including publications prior to 2010, were included.Park et al. Page 2\\nJAMA . Author manuscript; available in PMC 2022 August 09.\\nAuthor Manuscript Author Manuscript Author Manuscript Author Manuscript'),\n",
    "#  Document(metadata={'source': './documents/nihms-1828057.pdf', 'page': 2}, page_content='Epidemiology and Screening\\nPDAC is the third-leading cause of cancer mortality in the US and the seventh-leading cause \\nworldwide (Box).10The median age at diagnosis in the US is 71 years, and PDAC is slightly \\nmore common in men than in women (5.5 vs 4.0 per 100 000 individuals).11At presentation, \\n50% of patients have metastatic disease, 10% to 15% have localized disease amenable to \\nsurgery, and the remainder (30%–35%) have locally advanced mostly unresectable disease \\ndue to the extent of tumor-vascular involvement.1 Pancreatic intraepithelial neoplasms \\n(PanINs) refer to precancerous lesions, of which a small fraction may progress to high-grade \\ndysplasia and PDAC.12 Low-grade PanINs are common and their potential to transform \\ninto a malignancy is unclear. In a retrospective review of 584 patients who underwent a \\npancreatectomy for non-PDAC (median age, 59 years), 153 patients (26%) were identified \\nwith PanINs; most patients had low-grade PanIN-1 (50%) or PanIN-2 (41%) and 13 (8%) \\nhad PanIN-3. None of the patients with PanIN-3 developed cancer, whereas 1 patient with \\nPanIN-1B developed cancer in 4.4 years.13 Intraductal papillary mucinous neoplasms are \\nmore common precancerous cystic lesions than PanINs and can arise in either the main \\nor branch pancreatic duct. In a cohort study of 605 patients who underwent a surgical \\nprocedure for intraductal papillary mucinous neoplasms, the malignancy rate for final \\npathology in main-duct intraductal papillary mucinous neoplasms was 68%, whereas in \\na different cohort study of 1404 patients with branch-duct intraductal papillary mucinous \\nneoplasms, only 15% evolved to PDAC over 15 years.14–16 Annual imaging surveillance \\nis recommended; however, there is no consensus as to the optimal surveillance method or \\nfrequency of assessment.15,17 For asymptomatic average-risk individuals, the US Preventive \\nServices Task Force recommends against routine screening for PDAC.18\\nModifiable and Inherited Risk Factors\\nAmong lifestyle risk factors, current cigarette smoking has the strongest association \\nwith PDAC. A meta-analysis of 12 case-control studies that included 6507 patients with \\npancreatic cancer and 12 890 control patients reported an odds ratio (OR) of 1.74 (95% CI, \\n1.61–1.87) for the association of current smoking with pancreatic cancer (absolute rates not \\nreported).19,20 There was also a modest association of alcohol use with PDAC, when intake \\nexceeded 30 g per day (approximately 3 drinks per day), according to a meta-analysis of 19 \\nprospective studies reporting outcomes from 4 211 129 individuals (relative risk, 1.22 [95% \\nCI, 1.03–1.45]; absolute rates not reported).21 Chronic pancreatitis was associated with a \\n13-fold increased risk for PDAC in a pooled analysis of 14 prospective cohort studies of \\n862 664 individuals (relative risk, 13.3 [95% CI, 6.1–28.9]).22 Obesity, defined as a body \\nmass index in the fifth quintile (highest 20%), was also associated with an increased risk \\nof PDAC (incidence, 14.1 vs 5.7 per 100 000 person-years; adjusted relative risk, 1.54 \\n[95% CI, 1.04–2.29]) in a Norwegian analysis of 940 060 individuals.23 Diets of processed \\nmeat, high-fructose beverages, and saturated fat were associated with obesity, diabetes, and \\npancreatic cancer.24 The incidence of PDAC in people younger than 30 years is increasing. \\nThe annual incidence of PDAC increased with younger age from 1995 to 2014, from 0.77% \\n(95% CI, 0.57%–0.98%) for those aged 45 to 49 years, to 2.47% (95% CI, 1.77%–3.18%) \\nfor those aged 30 to 34 years, to 4.34% (95% CI, 3.19%–5.50%) for those aged 25 to 29 \\nyears, consistent with an increase in younger patients.24 This observation may be related Park et al. Page 3\\nJAMA . Author manuscript; available in PMC 2022 August 09.\\nAuthor Manuscript Author Manuscript Author Manuscript Author Manuscript')]"
   ]
  },
  {
   "cell_type": "code",
   "execution_count": null,
   "metadata": {},
   "outputs": [],
   "source": [
    "for i in range(3):\n",
    "    print(pages[i].metadata)\n",
    "\n",
    "# {'source': './documents/nihms-1828057.pdf', 'page': 0}\n",
    "# {'source': './documents/nihms-1828057.pdf', 'page': 1}\n",
    "# {'source': './documents/nihms-1828057.pdf', 'page': 2}"
   ]
  },
  {
   "cell_type": "code",
   "execution_count": 6,
   "metadata": {},
   "outputs": [],
   "source": [
    "from langchain.text_splitter import RecursiveCharacterTextSplitter\n",
    "\n",
    "text_splitter = RecursiveCharacterTextSplitter(chunk_size=1000, chunk_overlap=20)\n",
    "\n",
    "documents = text_splitter.split_documents(pages)"
   ]
  },
  {
   "cell_type": "code",
   "execution_count": null,
   "metadata": {},
   "outputs": [],
   "source": [
    "print(f\"{len(pages)} vc {len(documents)}\")"
   ]
  },
  {
   "cell_type": "code",
   "execution_count": 8,
   "metadata": {},
   "outputs": [],
   "source": [
    "from langchain_openai import OpenAIEmbeddings\n",
    "\n",
    "embeddings = OpenAIEmbeddings()"
   ]
  },
  {
   "cell_type": "code",
   "execution_count": 11,
   "metadata": {},
   "outputs": [],
   "source": [
    "# pip install chromadb\n",
    "from langchain_community.vectorstores import Chroma\n",
    "\n",
    "vector = Chroma.from_documents(documents, embeddings)"
   ]
  },
  {
   "cell_type": "code",
   "execution_count": 12,
   "metadata": {},
   "outputs": [],
   "source": [
    "from langchain_openai import ChatOpenAI\n",
    "\n",
    "llm = ChatOpenAI()"
   ]
  },
  {
   "cell_type": "code",
   "execution_count": 13,
   "metadata": {},
   "outputs": [],
   "source": [
    "from langchain_core.output_parsers import StrOutputParser\n",
    "\n",
    "output_parser = StrOutputParser()"
   ]
  },
  {
   "cell_type": "code",
   "execution_count": 14,
   "metadata": {},
   "outputs": [],
   "source": [
    "retriever = vector.as_retriever()"
   ]
  },
  {
   "cell_type": "code",
   "execution_count": 21,
   "metadata": {},
   "outputs": [],
   "source": [
    "from langchain_core.prompts import ChatPromptTemplate, MessagesPlaceholder\n",
    "\n",
    "instruction_to_system = \"\"\"\n",
    "Given a chat history and the latest user question, which might reference context in the chat history, formulate a standalone question, which can be undertood without the chat history. \n",
    "Do NOT answer the question. Just reformulate it if needed and otherwise return it as is.\n",
    "\"\"\"\n",
    "\n",
    "question_marker_prompt = ChatPromptTemplate.from_messages(\n",
    "    [\n",
    "        (\"system\", instruction_to_system),\n",
    "        MessagesPlaceholder(variable_name=\"chat_history\"),\n",
    "        (\"human\", \"{question}\")\n",
    "    ]\n",
    ")\n",
    "\n",
    "question_chain  = question_marker_prompt | llm | StrOutputParser()\n",
    "#question_chain = question_marker_prompt | llm | output_parser"
   ]
  },
  {
   "cell_type": "code",
   "execution_count": null,
   "metadata": {},
   "outputs": [],
   "source": [
    "from langchain_core.messages import HumanMessage\n",
    "\n",
    "question_chain.invoke({\"question\": \"Can you explain more?\", \"chat_history\": [HumanMessage(content=\"You explained that the moon is round.\")]})\n",
    "\n",
    "# Can you elaborate on the shape of the moon?"
   ]
  },
  {
   "cell_type": "code",
   "execution_count": 23,
   "metadata": {},
   "outputs": [],
   "source": [
    "qa_system_prompt = \"\"\"\n",
    "You are an assistant for question-answering tasks.\n",
    "Use the following pieces of retrieved context to answer the question.\n",
    "If you don't know the answer, provide a summary of the context.\n",
    "Do NOT generate your answer.\n",
    "\n",
    "{context}\n",
    "\"\"\"\n",
    "\n",
    "qa_prompt = ChatPromptTemplate.from_messages(\n",
    "    [\n",
    "        (\"system\", qa_system_prompt),\n",
    "        MessagesPlaceholder(variable_name=\"chat_history\"),\n",
    "        (\"human\", \"{question}\")\n",
    "    ]\n",
    ")"
   ]
  },
  {
   "cell_type": "code",
   "execution_count": 24,
   "metadata": {},
   "outputs": [],
   "source": [
    "def contextualized_question(input: dict):\n",
    "    if input.get(\"chat_history\"):\n",
    "        return question_chain\n",
    "    else:\n",
    "        return input[\"question\"]"
   ]
  },
  {
   "cell_type": "code",
   "execution_count": 25,
   "metadata": {},
   "outputs": [],
   "source": [
    "from langchain_core.runnables import RunnablePassthrough\n",
    "\n",
    "retriever_chain = RunnablePassthrough.assign(context=contextualized_question | retriever)"
   ]
  },
  {
   "cell_type": "code",
   "execution_count": null,
   "metadata": {},
   "outputs": [],
   "source": [
    "retriever_chain.invoke({\n",
    "    \"chat_history\": [HumanMessage(content=\"you explained that the moon is round\")],\n",
    "    \"question\": \"can you explain more?\"\n",
    "})\n",
    "\n",
    "# {'chat_history': [HumanMessage(content='you explained that the moon is round', additional_kwargs={}, response_metadata={})],\n",
    "#  'question': 'can you explain more?',\n",
    "#  'context': [Document(metadata={'page': 18, 'source': './documents/nihms-1828057.pdf'}, page_content='Figure 1. \\nSpectrum of Localized Pancreatic CancerPark et al. Page 19\\nJAMA . Author manuscript; available in PMC 2022 August 09.\\nAuthor Manuscript Author Manuscript Author Manuscript Author Manuscript'),\n",
    "#   Document(metadata={'page': 15, 'source': './documents/nihms-1828057.pdf'}, page_content='of the head of the pancreas. BMC Cancer. 2017;17(1):505. doi:10.1186/s12885-017-3441-z \\n[PubMed: 28750659]'),\n",
    "#   Document(metadata={'page': 5, 'source': './documents/nihms-1828057.pdf'}, page_content='indeterminate liver lesions are likely to represent metastases and identify cancers that \\nmay be poorly characterized on CT imaging. Positron emission tomography/CT using a \\nfluorodeoxyglucose tracer is a functional imaging tool that evaluates glucose metabolism in \\nthe tumor and can help distinguish benign from malignant lesions in the pancreas; however, \\nit lacks the spatial resolution and can detect glucose uptake from infection, inflammation \\nalso confounding interpretation.50 Positron emission tomography/CT is not considered a \\nroutine staging tool.\\nEndoscopic ultrasonography is used to visualize a pancreas mass directly, secure a definitive \\ncytologic or histologic diagnosis, define the degree of tumor-vascular involvement, evaluate \\nregional lymph nodes, and evaluate the potential for complete resection. Fine-needle \\ncore biopsy (preferred over fine-needle aspiration) of a tumor guided by endoscopic'),\n",
    "#   Document(metadata={'page': 11, 'source': './documents/nihms-1828057.pdf'}, page_content='Consulting, personal fees from Polaris Consulting, and personal fees from Merck Consulting during the conduct of \\nthe study; other from Bayer Spouse consulting, other from Celgene/BMS Spouse consulting, other from Genentech-\\nRoche Spouse consulting, and other from Eisai Spouse consulting outside the submitted work. No other disclosures \\nwere reported.\\nRole of the Funder/Sponsor:\\nThe funders had no role in the design and conduct of the study; collection, management, analysis, and interpretation \\nof the data; preparation, review, or approval of the manuscript; and decision to submit the manuscript for \\npublication.\\nREFERENCES\\n1. Siegel RL, Miller KD, Fuchs HE, Jemal A. Cancer statistics, 2021. CA Cancer J Clin. 2021;71(1):7–\\n33. doi:10.3322/caac.21654 [PubMed: 33433946] \\n2. Rahib L, Smith BD, Aizenberg R, Rosenzweig AB, Fleshman JM, Matrisian LM. Projecting \\ncancer incidence and deaths to 2030: the unexpected burden of thyroid, liver, and pancreas cancers')]}"
   ]
  },
  {
   "cell_type": "code",
   "execution_count": 32,
   "metadata": {},
   "outputs": [],
   "source": [
    "rag_chain = (\n",
    "    retriever_chain\n",
    "    | qa_prompt\n",
    "    | llm\n",
    "#   | output_parser\n",
    ")"
   ]
  },
  {
   "cell_type": "code",
   "execution_count": 33,
   "metadata": {},
   "outputs": [],
   "source": [
    "question = \"what percentage of patients have pathogenic germline gene variants?\""
   ]
  },
  {
   "cell_type": "code",
   "execution_count": null,
   "metadata": {},
   "outputs": [],
   "source": [
    "chat_history = []\n",
    "\n",
    "ai_msg = rag_chain.invoke({\"question\": question, \"chat_history\": chat_history})\n",
    "chat_history.extend([HumanMessage(content=question), ai_msg])\n",
    "ai_msg\n",
    "\n",
    "# AIMessage(content='Approximately 3.8% to 9.7% of patients with PDAC have pathogenic germline gene variants that increase susceptibility to PDAC.', additional_kwargs={'refusal': None}, response_metadata={'token_usage': {'completion_tokens': 33, 'prompt_tokens': 1235, 'total_tokens': 1268, 'completion_tokens_details': {'audio_tokens': None, 'reasoning_tokens': 0}, 'prompt_tokens_details': {'audio_tokens': None, 'cached_tokens': 0}}, 'model_name': 'gpt-3.5-turbo-0125', 'system_fingerprint': None, 'finish_reason': 'stop', 'logprobs': None}, id='run-a1dcb0b6-03d5-42f7-8c5b-ec10dc32c8d4-0', usage_metadata={'input_tokens': 1235, 'output_tokens': 33, 'total_tokens': 1268, 'input_token_details': {'cache_read': 0}, 'output_token_details': {'reasoning': 0}})"
   ]
  },
  {
   "cell_type": "code",
   "execution_count": null,
   "metadata": {},
   "outputs": [],
   "source": [
    "print(ai_msg.content)\n",
    "\n",
    "# Approximately 3.8% to 9.7% of patients with PDAC have pathogenic germline gene variants that increase susceptibility to PDAC."
   ]
  },
  {
   "cell_type": "code",
   "execution_count": null,
   "metadata": {},
   "outputs": [],
   "source": [
    "question = \"Can you explain more?\"\n",
    "ai_msg = rag_chain.invoke({\"question\": question, \"chat_history\": chat_history})\n",
    "chat_history.extend([HumanMessage(content=question), ai_msg])\n",
    "ai_msg\n",
    "\n",
    "# AIMessage(content='The pathogenic germline gene variants occur in about 3.8% to 9.7% of patients with pancreatic ductal adenocarcinoma (PDAC). These variants are found mostly in DNA damage repair genes, with common variants in genes like BRCA2, BRCA1, and ATM. BRCA2 variants are associated with a higher risk for PDAC compared to BRCA1 or ATM variants. Additionally, there are uncommon but therapeutically important germline variants found in mismatch repair deficiency genes like MLH1, MSH2, MSH6, and PMS2 in patients with PDAC.', additional_kwargs={'refusal': None}, response_metadata={'token_usage': {'completion_tokens': 130, 'prompt_tokens': 1281, 'total_tokens': 1411, 'completion_tokens_details': {'audio_tokens': None, 'reasoning_tokens': 0}, 'prompt_tokens_details': {'audio_tokens': None, 'cached_tokens': 0}}, 'model_name': 'gpt-3.5-turbo-0125', 'system_fingerprint': None, 'finish_reason': 'stop', 'logprobs': None}, id='run-443d3d83-6826-4380-b8d4-c5697daa007e-0', usage_metadata={'input_tokens': 1281, 'output_tokens': 130, 'total_tokens': 1411, 'input_token_details': {'cache_read': 0}, 'output_token_details': {'reasoning': 0}})"
   ]
  },
  {
   "cell_type": "code",
   "execution_count": null,
   "metadata": {},
   "outputs": [],
   "source": [
    "print(ai_msg.content)\n",
    "\n",
    "# The pathogenic germline gene variants occur in about 3.8% to 9.7% of patients with pancreatic ductal adenocarcinoma (PDAC). These variants are found mostly in DNA damage repair genes, with common variants in genes like BRCA2, BRCA1, and ATM. BRCA2 variants are associated with a higher risk for PDAC compared to BRCA1 or ATM variants. Additionally, there are uncommon but therapeutically important germline variants found in mismatch repair deficiency genes like MLH1, MSH2, MSH6, and PMS2 in patients with PDAC."
   ]
  }
 ],
 "metadata": {
  "kernelspec": {
   "display_name": "Python 3",
   "language": "python",
   "name": "python3"
  },
  "language_info": {
   "codemirror_mode": {
    "name": "ipython",
    "version": 3
   },
   "file_extension": ".py",
   "mimetype": "text/x-python",
   "name": "python",
   "nbconvert_exporter": "python",
   "pygments_lexer": "ipython3",
   "version": "3.12.5"
  }
 },
 "nbformat": 4,
 "nbformat_minor": 2
}
