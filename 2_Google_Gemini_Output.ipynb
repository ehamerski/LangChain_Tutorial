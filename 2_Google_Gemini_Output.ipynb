{
 "cells": [
  {
   "cell_type": "code",
   "execution_count": 15,
   "metadata": {},
   "outputs": [],
   "source": [
    "# Go to https://ai.google.dev/ and click on the button  \"Get API key in Google AI Studio\".\n",
    "# Or go to https://aistudio.google.com/app/prompts/new_chat and click on \"Get API key\".\n",
    "# Create API key in new project.\n",
    "\n",
    "# Add the key to the .env file.\n",
    "\n",
    "# Unfortunately, it seems the Google implementation doen't uses os.environ to get the GOOGLE_API_KEY from the .env file.\n",
    "# So, just adding the Google API key to the .env file will not work.\n",
    "\n",
    "# Let's use os.environ to get the key...\n",
    "\n",
    "import os\n",
    "\n",
    "GOOGLE_API_KEY = os.environ[\"GOOGLE_API_KEY\"]"
   ]
  },
  {
   "cell_type": "code",
   "execution_count": 16,
   "metadata": {},
   "outputs": [],
   "source": [
    "# pip install -U langchain-google-genai\n",
    "# If you run this command inside the notebook, add a ! at the beginning to run it as a unix command, not a python command.\n",
    "\n",
    "from langchain_google_genai.llms import GoogleGenerativeAI"
   ]
  },
  {
   "cell_type": "code",
   "execution_count": 18,
   "metadata": {},
   "outputs": [],
   "source": [
    "# You can recovery the key by calling: llm.google_api_key.get_secret_value()\n",
    "\n",
    "llm = GoogleGenerativeAI(google_api_key=GOOGLE_API_KEY, model=\"gemini-pro\")"
   ]
  },
  {
   "cell_type": "code",
   "execution_count": null,
   "metadata": {},
   "outputs": [],
   "source": [
    "# First call ...\n",
    "\n",
    "llm.invoke(\"Tell me a joke.\")\n",
    "# Response: 'Why did the scarecrow win an award?\\n\\nBecause he was outstanding in his field!'"
   ]
  },
  {
   "cell_type": "code",
   "execution_count": 20,
   "metadata": {},
   "outputs": [],
   "source": [
    "# Creating a professional prompt ...\n",
    "\n",
    "from langchain_core.prompts import ChatPromptTemplate"
   ]
  },
  {
   "cell_type": "code",
   "execution_count": 21,
   "metadata": {},
   "outputs": [],
   "source": [
    "prompt = ChatPromptTemplate.from_messages(\n",
    "    [\n",
    "        (\"system\", \"You are a helpful assistant.\"),\n",
    "        (\"user\", \"I would like to understand {user_input}. Can you tell me more about it?\")\n",
    "    ]\n",
    ")"
   ]
  },
  {
   "cell_type": "code",
   "execution_count": 26,
   "metadata": {},
   "outputs": [],
   "source": [
    "# Add a parser to the chain to avoid problems with different return structure between llm APIs.\n",
    "\n",
    "from langchain_core.output_parsers import StrOutputParser"
   ]
  },
  {
   "cell_type": "code",
   "execution_count": 28,
   "metadata": {},
   "outputs": [],
   "source": [
    "# Defining the parser ...\n",
    "\n",
    "out_parser = StrOutputParser()"
   ]
  },
  {
   "cell_type": "code",
   "execution_count": 29,
   "metadata": {},
   "outputs": [],
   "source": [
    "# You can extend the previous defined prompt by calling: prompt.extend()\n",
    "# But let's keep it simple for now...\n",
    "\n",
    "# It creates a simple chain that takes the prompt and passes it to the chat model to be processed by the llm.\n",
    "chain = prompt | llm | out_parser"
   ]
  },
  {
   "cell_type": "code",
   "execution_count": 30,
   "metadata": {},
   "outputs": [],
   "source": [
    "#ai_message = chain.invoke({\"user_input\": \"The Earth\"})\n",
    "ai_message = chain.invoke({\"user_input\": \"David Bowie\"})"
   ]
  },
  {
   "cell_type": "code",
   "execution_count": null,
   "metadata": {},
   "outputs": [],
   "source": [
    "# When using Google Gemini, the response is always a 'str'.\n",
    "# While the OpenAI API in the previous notebook has a very special structure.\n",
    "# This is the issue we would like to resolve usind the output parser.\n",
    "ai_message\n",
    "# '**David Bowie (1947-2016): A Musical and Cultural Icon**\\n\\n**Early Life and Career:**\\n\\n* Born David Robert Jones in London, England\\n* Began his music career as a saxophone player and singer in the mid-1960s\\n* Adopted the stage name \"David Bowie\" in 1966\\n\\n**Musical Evolution:**\\n\\n* Bowie\\'s music evolved through multiple styles, including:\\n    * Glam rock (1970-1973): Characterized by flamboyant costumes, theatrical performances, and songs like \"Ziggy Stardust\"\\n    * Art rock (1974-1979): Experimental and introspective, with albums like \"Low\" and \"Heroes\"\\n    * New wave (1979-1983): Influenced by punk and electronica, with albums like \"Scary Monsters\"\\n    * Pop (1983-1990): Commercial success with albums like \"Let\\'s Dance\" and \"China Girl\"\\n    * Industrial (1990-1993): Collaborated with industrial bands like Nine Inch Nails\\n\\n**Influence and Legacy:**\\n\\n* Bowie\\'s music had a profound impact on popular culture:\\n    * Pioneered the use of alter egos and theatrical elements in rock music\\n    * Inspired countless musicians, including Freddie Mercury, Iggy Pop, and Trent Reznor\\n    * Credited with introducing electronic music to a mainstream audience\\n\\n**Themes and Motifs:**\\n\\n* Bowie\\'s music often explored themes of:\\n    * Identity and transformation\\n    * Alienation and otherness\\n    * Science fiction and the unknown\\n    * Gender fluidity and androgyny\\n\\n**Personal Life:**\\n\\n* Bowie was known for his eccentric lifestyle and bisexuality\\n* Married twice, first to Angie Barnett and later to Iman Abdulmajid\\n* Died in 2016 at the age of 69 from liver cancer\\n\\n**Legacy:**\\n\\n* Bowie remains one of the most influential and iconic figures in popular music\\n* His music continues to be celebrated and reinterpreted by generations of artists\\n* His legacy is cemented as a visionary artist who pushed the boundaries of music and culture'"
   ]
  },
  {
   "cell_type": "code",
   "execution_count": null,
   "metadata": {},
   "outputs": [],
   "source": [
    "# The ai_message now is a 'str' and doesn't have the attribute 'content'. Let's remove the '.content' portion.\n",
    "# To avoid this error, we can add a parser to the chain ...\n",
    "#print(ai_message.content)\n",
    "print(ai_message)\n",
    "\n",
    "# **The Earth**\n",
    "\n",
    "# **Physical Characteristics:**\n",
    "\n",
    "# * **Mass:** 5.972 × 10^24 kilograms\n",
    "# * **Diameter:** 12,742 kilometers (equatorial)\n",
    "# * **Surface Area:** 510.1 million square kilometers\n",
    "# * **Volume:** 1.083 × 10^12 cubic kilometers\n",
    "\n",
    "# **Structure:**\n",
    "\n",
    "# * **Crust:** The outermost layer, composed mostly of silicate rocks.\n",
    "# * **Mantle:** The layer beneath the crust, made of solid rock that flows very slowly.\n",
    "# * **Outer Core:** A liquid layer of iron and nickel.\n",
    "# * **Inner Core:** A solid ball of iron and nickel at the center of the Earth.\n",
    "\n",
    "# **Atmosphere:**\n",
    "\n",
    "# * Composed primarily of nitrogen (78%), oxygen (21%), and trace gases.\n",
    "# * Protects us from harmful radiation and regulates Earth's temperature.\n",
    "# * Contains weather systems, clouds, and precipitation.\n",
    "\n",
    "# **Hydrosphere:**\n",
    "\n",
    "# * Covers about 71% of Earth's surface.\n",
    "# * Includes oceans, seas, lakes, rivers, and groundwater.\n",
    "# * Supports marine life and plays a vital role in climate regulation.\n",
    "# ...\n",
    "# ...\n",
    "\n",
    "# **David Bowie (1947-2016): A Musical and Cultural Icon**\n",
    "\n",
    "# **Early Life and Career:**\n",
    "\n",
    "# * Born David Robert Jones in London, England\n",
    "# * Began his music career as a saxophone player and singer in the mid-1960s\n",
    "# * Adopted the stage name \"David Bowie\" in 1966\n",
    "\n",
    "# **Musical Evolution:**\n",
    "\n",
    "# * Bowie's music evolved through multiple styles, including:\n",
    "#     * Glam rock (1970-1973): Characterized by flamboyant costumes, theatrical performances, and songs like \"Ziggy Stardust\"\n",
    "#     * Art rock (1974-1979): Experimental and introspective, with albums like \"Low\" and \"Heroes\"\n",
    "#     * New wave (1979-1983): Influenced by punk and electronica, with albums like \"Scary Monsters\"\n",
    "#     * Pop (1983-1990): Commercial success with albums like \"Let's Dance\" and \"China Girl\"\n",
    "#     * Industrial (1990-1993): Collaborated with industrial bands like Nine Inch Nails\n",
    "\n",
    "# **Influence and Legacy:**\n",
    "\n",
    "# * Bowie's music had a profound impact on popular culture:\n",
    "#     * Pioneered the use of alter egos and theatrical elements in rock music\n",
    "#     * Inspired countless musicians, including Freddie Mercury, Iggy Pop, and Trent Reznor\n",
    "#     * Credited with introducing electronic music to a mainstream audience\n",
    "\n",
    "# **Themes and Motifs:**\n",
    "\n",
    "# * Bowie's music often explored themes of:\n",
    "#     * Identity and transformation\n",
    "#     * Alienation and otherness\n",
    "#     * Science fiction and the unknown\n",
    "#     * Gender fluidity and androgyny\n",
    "# ...\n",
    "# ...\n"
   ]
  }
 ],
 "metadata": {
  "kernelspec": {
   "display_name": "Python 3",
   "language": "python",
   "name": "python3"
  },
  "language_info": {
   "codemirror_mode": {
    "name": "ipython",
    "version": 3
   },
   "file_extension": ".py",
   "mimetype": "text/x-python",
   "name": "python",
   "nbconvert_exporter": "python",
   "pygments_lexer": "ipython3",
   "version": "3.12.5"
  }
 },
 "nbformat": 4,
 "nbformat_minor": 2
}
